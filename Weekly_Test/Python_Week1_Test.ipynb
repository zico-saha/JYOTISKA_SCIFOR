{
  "nbformat": 4,
  "nbformat_minor": 0,
  "metadata": {
    "colab": {
      "provenance": []
    },
    "kernelspec": {
      "name": "python3",
      "display_name": "Python 3"
    },
    "language_info": {
      "name": "python"
    }
  },
  "cells": [
    {
      "cell_type": "markdown",
      "source": [
        "# **1. Explain Encapsulation with example and write python code**"
      ],
      "metadata": {
        "id": "mb8yS9OB7gfE"
      }
    },
    {
      "cell_type": "markdown",
      "source": [
        "# **Answer:**\n",
        "\n",
        "Encapsulation is the warpping up data and methods into a single unit(called class). It restricts certain data and methods being accessed from outside program. So, it It enhances maintainability and protects the object's integrity by preventing unauthorized access and modification.\n",
        "\n",
        "---\n",
        "\n",
        "**Example:**\n",
        "\n",
        "Let a *class* be **Bank_account**.\n",
        "\n",
        "It has attributes **account_holder_name** and **balance** that are *private*. There are three methods named, **get_info**, **get_balance** **diposit**, **withdraw**.\n",
        "\n",
        "These methods can work upon the attributes but, no *object* can directly access the *private* attributes. The working of the methods are also hidden from the outside of *class*."
      ],
      "metadata": {
        "id": "Ps7L3qJi7o2r"
      }
    },
    {
      "cell_type": "code",
      "execution_count": 2,
      "metadata": {
        "colab": {
          "base_uri": "https://localhost:8080/"
        },
        "id": "vzl1YBqHzpzD",
        "outputId": "3b938c29-6c75-4504-fb88-da143655c1c6"
      },
      "outputs": [
        {
          "output_type": "stream",
          "name": "stdout",
          "text": [
            "Account Number: 123456\n",
            "Balance: 1000\n",
            "1000\n",
            "1500\n",
            "1300\n"
          ]
        }
      ],
      "source": [
        "# Encapsulation:\n",
        "\n",
        "class BankAccount:\n",
        "    def __init__(self, account_number, balance):\n",
        "        self.__account_number = account_number\n",
        "        self.__balance = balance\n",
        "\n",
        "    def get_info(self):\n",
        "      print(f\"Account Number: {self.__account_number}\")\n",
        "      print(f\"Balance: {self.__balance}\")\n",
        "\n",
        "    def get_balance(self):\n",
        "        return self.__balance\n",
        "\n",
        "    def deposit(self, amount):\n",
        "        if amount > 0:\n",
        "            self.__balance += amount\n",
        "        else:\n",
        "            print(\"Invalid deposit amount\")\n",
        "\n",
        "    def withdraw(self, amount):\n",
        "        if 0 < amount <= self.__balance:\n",
        "            self.__balance -= amount\n",
        "        else:\n",
        "            print(\"Invalid withdraw amount OR Insufficient funds\")\n",
        "\n",
        "\n",
        "\n",
        "account = BankAccount(\"123456\", 1000)\n",
        "\n",
        "account.get_info()\n",
        "\n",
        "print(account.get_balance())\n",
        "\n",
        "account.deposit(500)\n",
        "print(account.get_balance())\n",
        "\n",
        "account.withdraw(200)\n",
        "print(account.get_balance())\n",
        "\n",
        "\n",
        "# This will raise an error\n",
        "# print(account.__balance)"
      ]
    },
    {
      "cell_type": "markdown",
      "source": [
        "# **2. Explain Polymorphism with example and write python code**"
      ],
      "metadata": {
        "id": "ehiBwajI-ybi"
      }
    },
    {
      "cell_type": "markdown",
      "source": [
        "# **Answer:**\n",
        "\n",
        "Polymorphism((Poly = many) + (morphism = form)), is the ability to take more than one form by either method overloading or operator overloading. It allows different objects having different internal operations share the same external interface(function name or operator).\n",
        "\n",
        "---\n",
        "\n",
        "**Example:**\n",
        "\n",
        "Let, a *class* be **Generic_Shape** and two child class be **Rectangle** and **Circle**.\n",
        "\n",
        "To calculate the area of the shape(Rectangle / Circle), same method name is used. But its internal working is different.\n",
        "\n",
        "The function **calculate_area** calculates the area of any shape object by determining its method."
      ],
      "metadata": {
        "id": "1MMaKuYA-5aF"
      }
    },
    {
      "cell_type": "code",
      "source": [
        "# Polymorphism:\n",
        "\n",
        "class Generic_Shape:\n",
        "    def area(self):\n",
        "        pass\n",
        "\n",
        "class Rectangle(Generic_Shape):\n",
        "    def __init__(self, width, height):\n",
        "        self.width = width\n",
        "        self.height = height\n",
        "\n",
        "    def area(self):\n",
        "        return self.width * self.height\n",
        "\n",
        "class Circle(Generic_Shape):\n",
        "    def __init__(self, radius):\n",
        "        self.radius = radius\n",
        "\n",
        "    def area(self):\n",
        "        return 3.14159 * (self.radius ** 2)\n",
        "\n",
        "\n",
        "\n",
        "def calculate_area(shape):\n",
        "    return shape.area()\n",
        "\n",
        "\n",
        "\n",
        "rectangle = Rectangle(5, 10)\n",
        "circle = Circle(7)\n",
        "\n",
        "print(f\"Rectangle area: {calculate_area(rectangle)}\")\n",
        "print(f\"Circle area: {calculate_area(circle)}\")"
      ],
      "metadata": {
        "colab": {
          "base_uri": "https://localhost:8080/"
        },
        "id": "F8UC2Af5-55y",
        "outputId": "ffd1cb62-918f-4aa6-f28d-2d87c62d71d1"
      },
      "execution_count": 8,
      "outputs": [
        {
          "output_type": "stream",
          "name": "stdout",
          "text": [
            "Rectangle area: 50\n",
            "Circle area: 153.93791\n"
          ]
        }
      ]
    },
    {
      "cell_type": "markdown",
      "source": [
        "# **3. Explain Single Level Inheritance with python code**"
      ],
      "metadata": {
        "id": "UyQKyZohAfLQ"
      }
    },
    {
      "cell_type": "markdown",
      "source": [
        "# **Answer:**\n",
        "\n",
        "Single level inheritance involves one base class and one derived class. The derived class inherits properties and behavior from the base class.\n",
        "\n",
        "---\n",
        "\n",
        "**Example:**\n",
        "\n",
        "Let, *Base Class* be **Bird** and *Derived Class* be **Flying_Bird**.\n",
        "\n",
        "The **Flying_Bird class** will inherit all the methods from the **Bird Class**."
      ],
      "metadata": {
        "id": "66TcXr6_AlB7"
      }
    },
    {
      "cell_type": "code",
      "source": [
        "# Single Level Inheretance:\n",
        "\n",
        "class Bird:\n",
        "  def properties(self):\n",
        "    print(\"1. Have Feathers\")\n",
        "    print(\"2. Lays Egg\")\n",
        "    print(\"3. Have Beak\")\n",
        "\n",
        "class Flying_Bird(Bird):\n",
        "  def fly(self):\n",
        "    print(\"Bird is flying!\")\n",
        "\n",
        "\n",
        "flying_bird = Flying_Bird()\n",
        "\n",
        "flying_bird.properties()\n",
        "flying_bird.fly()"
      ],
      "metadata": {
        "colab": {
          "base_uri": "https://localhost:8080/"
        },
        "id": "lOwPhKqtA595",
        "outputId": "fc0b7e0a-808a-4238-f47c-1dd6ff4341ec"
      },
      "execution_count": 9,
      "outputs": [
        {
          "output_type": "stream",
          "name": "stdout",
          "text": [
            "1. Have Feathers\n",
            "2. Lays Egg\n",
            "3. Have Beak\n",
            "Bird is flying!\n"
          ]
        }
      ]
    },
    {
      "cell_type": "markdown",
      "source": [
        "# **4. Explain Multiple inheritance with python code**"
      ],
      "metadata": {
        "id": "t9P4fs_QBsqf"
      }
    },
    {
      "cell_type": "markdown",
      "source": [
        "# **Answer:**\n",
        "\n",
        "Multiple inheritance allows a class to inherit properties and behavior from more than one parent class.\n",
        "\n",
        "---\n",
        "\n",
        "**Example:**\n",
        "\n",
        "Let, *Base Class* be **Electric_Vehicle**, **Gasoline_Vehicle** and *Derived Class* be **Hybrid_Vehicle**.\n",
        "\n",
        "The **Hybrid_Vehicle** inherits the properties of **Electric_Vehicle** and **Gasoline_Vehicle** both."
      ],
      "metadata": {
        "id": "EsstzfJOBz2z"
      }
    },
    {
      "cell_type": "code",
      "source": [
        "# Multiple Inheritance:\n",
        "\n",
        "class Electric_Vehicle:\n",
        "    def charge(self):\n",
        "        print(\"Charging electric vehicle...\")\n",
        "\n",
        "class Gasoline_Vehicle:\n",
        "    def refuel(self):\n",
        "        print(\"Refueling gasoline vehicle...\")\n",
        "\n",
        "class Hybrid_Vehicle(Electric_Vehicle, Gasoline_Vehicle):\n",
        "  def __init__(self, brand):\n",
        "    self.brand = brand\n",
        "\n",
        "  def drive(self):\n",
        "    print(f\"{self.brand} is being driven.\")\n",
        "\n",
        "hybrid_car = Hybrid_Vehicle(\"Toyota Prius\")\n",
        "hybrid_car.charge()\n",
        "hybrid_car.refuel()\n",
        "hybrid_car.drive()"
      ],
      "metadata": {
        "colab": {
          "base_uri": "https://localhost:8080/"
        },
        "id": "w3s_A9ShChaT",
        "outputId": "565bd1bf-d6bb-4a5e-a4f0-7ecb07e75047"
      },
      "execution_count": 3,
      "outputs": [
        {
          "output_type": "stream",
          "name": "stdout",
          "text": [
            "Charging electric vehicle...\n",
            "Refueling gasoline vehicle...\n",
            "Toyota Prius is being driven.\n"
          ]
        }
      ]
    },
    {
      "cell_type": "markdown",
      "source": [
        "# **5. Explain Muti-level inheritance with python code**"
      ],
      "metadata": {
        "id": "5CxyUmyED-C5"
      }
    },
    {
      "cell_type": "markdown",
      "source": [
        "**Answer:**\n",
        "\n",
        "Multi-level Inheritance: Multi-level inheritance involves a chain of inheritance where a derived class inherits from a base class, and another class inherits from the derived class.\n",
        "\n",
        "---\n",
        "\n",
        "**Example:**\n",
        "\n",
        "Let, the *Base Class* be **Bird**. *Derived Class* **Flying_Bird** inherits the properties of **Bird**. Another, *Derived Class* **Parrot** inherits the properties of its *Base Class* **Flying_Bird**.\n",
        "\n",
        "**Flying_Bird** acts as *Base Class* to **Parrot** and *Derived Class* to **Bird**."
      ],
      "metadata": {
        "id": "2wv3JiUFD-k2"
      }
    },
    {
      "cell_type": "code",
      "source": [
        "# Multi Level Inheretance:\n",
        "class Bird:\n",
        "  def properties(self):\n",
        "    print(\"1. Have Feathers\")\n",
        "    print(\"2. Lays Egg\")\n",
        "    print(\"3. Have Beak\")\n",
        "\n",
        "class Flying_Bird(Bird):\n",
        "  def fly(self):\n",
        "    print(\"Bird is flying!\")\n",
        "\n",
        "class Parrot(Flying_Bird):\n",
        "    def mimic(self):\n",
        "      print(\"Parrot is mimicking\")\n",
        "\n",
        "parrot = Parrot()\n",
        "\n",
        "parrot.properties()\n",
        "parrot.fly()\n",
        "parrot.mimic()"
      ],
      "metadata": {
        "colab": {
          "base_uri": "https://localhost:8080/"
        },
        "id": "JvPdFpdZEa_I",
        "outputId": "7ec568db-4a3a-40f7-c180-46c4425d3b7c"
      },
      "execution_count": 4,
      "outputs": [
        {
          "output_type": "stream",
          "name": "stdout",
          "text": [
            "1. Have Feathers\n",
            "2. Lays Egg\n",
            "3. Have Beak\n",
            "Bird is flying!\n",
            "Parrot is mimicking\n"
          ]
        }
      ]
    },
    {
      "cell_type": "markdown",
      "source": [
        "# **6. What do you mean by conditional statements. Explain with python code**"
      ],
      "metadata": {
        "id": "GFc89sx4FSUc"
      }
    },
    {
      "cell_type": "markdown",
      "source": [
        "**Answer:**\n",
        "\n",
        "Conditional statements allow you to execute different blocks of code based on the evaluation of a condition. In Python, this is typically done using if, elif, and else statements."
      ],
      "metadata": {
        "id": "bPrKItirFwe_"
      }
    },
    {
      "cell_type": "code",
      "source": [
        "x = int(input(\"Enter an number: \"))\n",
        "\n",
        "if x > 0:\n",
        "    print(\"x is positive\")\n",
        "elif x == 0:\n",
        "    print(\"x is zero\")\n",
        "else:\n",
        "    print(\"x is negative\")"
      ],
      "metadata": {
        "colab": {
          "base_uri": "https://localhost:8080/"
        },
        "id": "ImY_xgdzFzbf",
        "outputId": "f4ce0605-3e12-4f04-a02b-41206a5bcbd9"
      },
      "execution_count": 5,
      "outputs": [
        {
          "output_type": "stream",
          "name": "stdout",
          "text": [
            "Enter an number: 10\n",
            "x is positive\n"
          ]
        }
      ]
    },
    {
      "cell_type": "markdown",
      "source": [
        "# **7. What do you mean by decision making statements. Explain with python code.**"
      ],
      "metadata": {
        "id": "_AQYXsFeFTaf"
      }
    },
    {
      "cell_type": "markdown",
      "source": [
        "**Answer:**\n",
        "\n",
        "Decision-making statements includes conditional statements along with other constructs like loops and switch-case statements. They are used to control the flow of the program based on certain conditions."
      ],
      "metadata": {
        "id": "o1zOWkHXGIQo"
      }
    },
    {
      "cell_type": "code",
      "source": [
        "def weekday_name(day):\n",
        "    match day:\n",
        "        case 1:\n",
        "            return \"Monday\"\n",
        "        case 2:\n",
        "            return \"Tuesday\"\n",
        "        case 3:\n",
        "            return \"Wednesday\"\n",
        "        case 4:\n",
        "            return \"Thursday\"\n",
        "        case 5:\n",
        "            return \"Friday\"\n",
        "        case 6:\n",
        "            return \"Saturday\"\n",
        "        case 7:\n",
        "            return \"Sunday\"\n",
        "        case _:\n",
        "            return \"Invalid day\"\n",
        "\n",
        "\n",
        "print(weekday_name(1))\n",
        "print(weekday_name(5))\n",
        "print(weekday_name(8))"
      ],
      "metadata": {
        "colab": {
          "base_uri": "https://localhost:8080/"
        },
        "id": "AD_9EzauGVAz",
        "outputId": "8b228844-334f-4719-f2ed-3d11a1a069c3"
      },
      "execution_count": 6,
      "outputs": [
        {
          "output_type": "stream",
          "name": "stdout",
          "text": [
            "Monday\n",
            "Friday\n",
            "Invalid day\n"
          ]
        }
      ]
    },
    {
      "cell_type": "markdown",
      "source": [
        "# **8. Write a program of factorial in python**"
      ],
      "metadata": {
        "id": "TfWln1qFFT-X"
      }
    },
    {
      "cell_type": "code",
      "source": [
        "def factorial(n):\n",
        "    if n == 0:\n",
        "        return 1\n",
        "    else:\n",
        "        return n * factorial(n-1)\n",
        "\n",
        "num = int(input(\"Enter an integer: \"))\n",
        "result = factorial(num)\n",
        "\n",
        "print(f\"Factorial of {num}: {result}\")"
      ],
      "metadata": {
        "colab": {
          "base_uri": "https://localhost:8080/"
        },
        "id": "9SV3WgaLHKL_",
        "outputId": "04a899c6-179c-43d0-b8be-020d05f1d0df"
      },
      "execution_count": 7,
      "outputs": [
        {
          "output_type": "stream",
          "name": "stdout",
          "text": [
            "Enter an integer: 5\n",
            "Factorial of 5: 120\n"
          ]
        }
      ]
    },
    {
      "cell_type": "markdown",
      "source": [
        "# **9. What do you understand by Functions? Explain with python code**"
      ],
      "metadata": {
        "id": "adFglChyFURU"
      }
    },
    {
      "cell_type": "markdown",
      "source": [
        "**Answer:**\n",
        "\n",
        "Functions in Python are blocks of reusable code that perform a specific task. They help in better structuring the code and enhances reusability of code."
      ],
      "metadata": {
        "id": "ttiLjC5BHyPK"
      }
    },
    {
      "cell_type": "code",
      "source": [
        "def divide_nums(dividend, divisor):\n",
        "\n",
        "  quotient = int(dividend / divisor)\n",
        "  remainder = dividend % divisor\n",
        "  return (quotient, remainder)\n",
        "\n",
        "\n",
        "dividend = int(input(\"Enter an integer: \"))\n",
        "divisor = int(input(\"Enter an integer: \"))\n",
        "\n",
        "result = divide_nums(dividend, divisor)\n",
        "\n",
        "print(\"Quotient:\", result[0])\n",
        "print(\"Remainder:\", result[1])"
      ],
      "metadata": {
        "colab": {
          "base_uri": "https://localhost:8080/"
        },
        "id": "NLx2qhs0Hnhr",
        "outputId": "3c5895c3-37b3-4940-a39b-8e4b2cf3b9e6"
      },
      "execution_count": 10,
      "outputs": [
        {
          "output_type": "stream",
          "name": "stdout",
          "text": [
            "Enter an integer: 37\n",
            "Enter an integer: 4\n",
            "Quotient: 9\n",
            "Remainder: 1\n"
          ]
        }
      ]
    },
    {
      "cell_type": "markdown",
      "source": [
        "# **10. How many pillars of Oops we have in Python?**"
      ],
      "metadata": {
        "id": "qklPwcW-FUjq"
      }
    },
    {
      "cell_type": "markdown",
      "source": [
        "# **Answer:**\n",
        "\n",
        "Python supports three pillars of Object-Oriented Programming (OOP):\n",
        "\n",
        "* Encapsulation and Abstraction\n",
        "* Inheritance\n",
        "* Polymorphism\n",
        "  * Single Level Inheritance\n",
        "  * Multi Level Inheritance\n",
        "  * Multiple Inheritance\n",
        "  * Hierarchical Inheritance\n",
        "  * Hybrid Inheritance"
      ],
      "metadata": {
        "id": "9to_PmLkI1v0"
      }
    }
  ]
}