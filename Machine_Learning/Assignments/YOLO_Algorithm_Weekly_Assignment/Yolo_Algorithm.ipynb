{
 "cells": [
  {
   "cell_type": "code",
   "execution_count": 1,
   "metadata": {},
   "outputs": [],
   "source": [
    "# Importing necessary libraries\n",
    "import requests\n",
    "import cv2\n",
    "import numpy as np\n",
    "import os\n",
    "import csv"
   ]
  },
  {
   "cell_type": "code",
   "execution_count": 2,
   "metadata": {},
   "outputs": [],
   "source": [
    "# Downloading YOLOv3 weights\n",
    "url_weights = \"https://pjreddie.com/media/files/yolov3.weights\"\n",
    "response_weights = requests.get(url_weights)\n",
    "with open(\"yolov3.weights\", \"wb\") as f:\n",
    "    f.write(response_weights.content)\n",
    "\n",
    "# Downloading YOLOv3 configuration file\n",
    "url_cfg = \"https://github.com/pjreddie/darknet/blob/master/cfg/yolov3.cfg?raw=true\"\n",
    "response_cfg = requests.get(url_cfg)\n",
    "with open(\"yolov3.cfg\", \"wb\") as f:\n",
    "    f.write(response_cfg.content)\n",
    "\n",
    "# Downloading YOLOv3 class names\n",
    "url_names = \"https://github.com/pjreddie/darknet/blob/master/data/coco.names?raw=true\"\n",
    "response_names = requests.get(url_names)\n",
    "with open(\"coco.names\", \"wb\") as f:\n",
    "    f.write(response_names.content)"
   ]
  },
  {
   "cell_type": "code",
   "execution_count": 3,
   "metadata": {},
   "outputs": [],
   "source": [
    "# Loading YOLO\n",
    "net = cv2.dnn.readNet(\"yolov3.weights\", \"yolov3.cfg\")\n",
    "layer_names = net.getLayerNames()\n",
    "output_layers = [layer_names[i - 1] for i in net.getUnconnectedOutLayers()]\n",
    "\n",
    "# Loading COCO class names\n",
    "with open(\"coco.names\", \"r\") as f:\n",
    "    classes = [line.strip() for line in f.readlines()]"
   ]
  },
  {
   "cell_type": "code",
   "execution_count": 4,
   "metadata": {},
   "outputs": [],
   "source": [
    "# Function for detecting objects\n",
    "def detect_objects(img, net, output_layers):\n",
    "    height, width, channels = img.shape\n",
    "\n",
    "    # Detecting objects\n",
    "    blob = cv2.dnn.blobFromImage(img, 0.00392, (416, 416), (0, 0, 0), True, crop=False)\n",
    "    net.setInput(blob)\n",
    "    outs = net.forward(output_layers)\n",
    "\n",
    "    # Showing information on the screen\n",
    "    class_ids = []\n",
    "    confidences = []\n",
    "    boxes = []\n",
    "    for out in outs:\n",
    "        for detection in out:\n",
    "            scores = detection[5:]\n",
    "            class_id = np.argmax(scores)\n",
    "            confidence = scores[class_id]\n",
    "            if confidence > 0.5 and classes[class_id] == \"car\":\n",
    "                # Object detected\n",
    "                center_x = int(detection[0] * width)\n",
    "                center_y = int(detection[1] * height)\n",
    "                w = int(detection[2] * width)\n",
    "                h = int(detection[3] * height)\n",
    "\n",
    "                # Rectangle coordinates\n",
    "                x = int(center_x - w / 2)\n",
    "                y = int(center_y - h / 2)\n",
    "\n",
    "                boxes.append([x, y, w, h])\n",
    "                confidences.append(float(confidence))\n",
    "                class_ids.append(class_id)\n",
    "\n",
    "    indexes = cv2.dnn.NMSBoxes(boxes, confidences, 0.5, 0.4)\n",
    "\n",
    "    return boxes, confidences, class_ids, indexes"
   ]
  },
  {
   "cell_type": "code",
   "execution_count": 5,
   "metadata": {},
   "outputs": [],
   "source": [
    "# Function for drawing bounding boxes and saving the image and CSV data\n",
    "def draw_bounding_boxes_and_save(img, boxes, confidences, class_ids, indexes, output_path, img_name, csv_writer):\n",
    "    for i in range(len(boxes)):\n",
    "        if i in indexes:\n",
    "            x, y, w, h = boxes[i]\n",
    "            label = str(classes[class_ids[i]])\n",
    "            confidence = confidences[i]\n",
    "            color = (0, 255, 0)  # Green color for car\n",
    "            cv2.rectangle(img, (x, y), (x + w, y + h), color, 2)\n",
    "            cv2.putText(img, f\"{label} {confidence:.2f}\", (x, y + 30), cv2.FONT_HERSHEY_PLAIN, 2, color, 2)\n",
    "            # Write bounding box information to CSV\n",
    "            csv_writer.writerow([img_name, label, confidence, x, y, w, h])\n",
    "    \n",
    "    # Save the image\n",
    "    save_path = os.path.join(output_path, img_name)\n",
    "    cv2.imwrite(save_path, img)\n",
    "\n",
    "# Function to initialize CSV writer\n",
    "def initialize_csv_writer(csv_file_path):\n",
    "    os.makedirs(os.path.dirname(csv_file_path), exist_ok=True)\n",
    "    file = open(csv_file_path, mode='w', newline='')\n",
    "    writer = csv.writer(file)\n",
    "    header = [\"image_name\", \"label\", \"confidence\", \"x\", \"y\", \"width\", \"height\"]\n",
    "    writer.writerow(header)\n",
    "    return file, writer\n",
    "\n",
    "# Initialize CSV writers\n",
    "training_csv_path = \"output_training_images/training_boxes.csv\"\n",
    "test_csv_path = \"output_test_images/test_boxes.csv\"\n",
    "\n",
    "training_csv_file, training_csv_writer = initialize_csv_writer(training_csv_path)\n",
    "test_csv_file, test_csv_writer = initialize_csv_writer(test_csv_path)"
   ]
  },
  {
   "cell_type": "code",
   "execution_count": 6,
   "metadata": {},
   "outputs": [],
   "source": [
    "# Processing training images\n",
    "training_images_path = \"training_images/\"\n",
    "training_images = [f for f in os.listdir(training_images_path) if os.path.isfile(os.path.join(training_images_path, f))]\n",
    "\n",
    "for img_name in training_images:\n",
    "    img_path = os.path.join(training_images_path, img_name)\n",
    "    img = cv2.imread(img_path)\n",
    "    boxes, confidences, class_ids, indexes = detect_objects(img, net, output_layers)\n",
    "    draw_bounding_boxes_and_save(img, boxes, confidences, class_ids, indexes, \"output_training_images/\", img_name, training_csv_writer)"
   ]
  },
  {
   "cell_type": "code",
   "execution_count": 7,
   "metadata": {},
   "outputs": [],
   "source": [
    "# Processing test images\n",
    "test_images_path = \"testing_images/\"\n",
    "test_images = [f for f in os.listdir(test_images_path) if os.path.isfile(os.path.join(test_images_path, f))]\n",
    "\n",
    "for img_name in test_images:\n",
    "    img_path = os.path.join(test_images_path, img_name)\n",
    "    img = cv2.imread(img_path)\n",
    "    boxes, confidences, class_ids, indexes = detect_objects(img, net, output_layers)\n",
    "    draw_bounding_boxes_and_save(img, boxes, confidences, class_ids, indexes, \"output_test_images/\", img_name, test_csv_writer)"
   ]
  },
  {
   "cell_type": "code",
   "execution_count": 8,
   "metadata": {},
   "outputs": [],
   "source": [
    "training_csv_file.close()\n",
    "test_csv_file.close()"
   ]
  }
 ],
 "metadata": {
  "kernelspec": {
   "display_name": "Python 3",
   "language": "python",
   "name": "python3"
  },
  "language_info": {
   "codemirror_mode": {
    "name": "ipython",
    "version": 3
   },
   "file_extension": ".py",
   "mimetype": "text/x-python",
   "name": "python",
   "nbconvert_exporter": "python",
   "pygments_lexer": "ipython3",
   "version": "3.11.9"
  }
 },
 "nbformat": 4,
 "nbformat_minor": 2
}
