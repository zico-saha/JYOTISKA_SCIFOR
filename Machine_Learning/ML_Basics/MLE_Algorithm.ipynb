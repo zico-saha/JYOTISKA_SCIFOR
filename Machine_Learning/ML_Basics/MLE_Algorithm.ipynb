{
  "nbformat": 4,
  "nbformat_minor": 0,
  "metadata": {
    "colab": {
      "provenance": []
    },
    "kernelspec": {
      "name": "python3",
      "display_name": "Python 3"
    },
    "language_info": {
      "name": "python"
    }
  },
  "cells": [
    {
      "cell_type": "markdown",
      "source": [
        "# **Multi-Linear-Regression Algorithm**"
      ],
      "metadata": {
        "id": "9CpB4ylRXqMt"
      }
    },
    {
      "cell_type": "code",
      "execution_count": 5,
      "metadata": {
        "id": "uXFoe-iqRfaH"
      },
      "outputs": [],
      "source": [
        "import numpy as np\n",
        "import pandas as pd\n",
        "from sklearn.model_selection import train_test_split\n",
        "import matplotlib.pyplot as plt\n",
        "\n",
        "\n",
        "class MultiLinearRegression:\n",
        "    def __init__(self, learning_rate=0.01, epoch=1000):\n",
        "        self.learning_rate = learning_rate\n",
        "        self.epoch = epoch\n",
        "\n",
        "    def fit(self, X, y):\n",
        "        self.m, self.n = X.shape\n",
        "\n",
        "        self.theta = np.zeros(self.n)\n",
        "        self.bias = 0\n",
        "        self.prev_cost = float('inf')\n",
        "\n",
        "        for i in range(self.epoch):\n",
        "            predictions = np.dot(X, self.theta) + self.bias\n",
        "            cost = self.cost_function(y, predictions)\n",
        "\n",
        "            if self.prev_cost < cost:\n",
        "                break\n",
        "            self.prev_cost = cost\n",
        "\n",
        "            self.update_parameter(X, y, predictions)\n",
        "        return self\n",
        "\n",
        "    def update_parameter(self, X, y, predictions):\n",
        "        errors = predictions - y\n",
        "        d_theta = (1 / self.m) * np.dot(X.T, errors)\n",
        "        d_bias = (1 / self.m) * np.sum(errors)\n",
        "\n",
        "        self.theta -= self.learning_rate * d_theta\n",
        "        self.bias -= self.learning_rate * d_bias\n",
        "\n",
        "    def predict(self, X):\n",
        "        return np.dot(X, self.theta) + self.bias\n",
        "\n",
        "    def cost_function(self, y, predictions):\n",
        "        errors = predictions - y\n",
        "        return (1 / (2 * self.m)) * np.dot(errors.T, errors)"
      ]
    }
  ]
}