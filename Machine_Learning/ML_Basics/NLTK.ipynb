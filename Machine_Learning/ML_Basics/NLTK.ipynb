{
  "nbformat": 4,
  "nbformat_minor": 0,
  "metadata": {
    "colab": {
      "provenance": []
    },
    "kernelspec": {
      "name": "python3",
      "display_name": "Python 3"
    },
    "language_info": {
      "name": "python"
    }
  },
  "cells": [
    {
      "cell_type": "code",
      "execution_count": 29,
      "metadata": {
        "id": "bjUE6GMHsHyb"
      },
      "outputs": [],
      "source": [
        "# Importing necessary libraries\n",
        "import nltk\n",
        "from nltk.sentiment import SentimentIntensityAnalyzer\n",
        "from nltk.tokenize import word_tokenize, sent_tokenize\n",
        "from nltk.corpus import stopwords\n",
        "from nltk.stem import WordNetLemmatizer\n",
        "import string"
      ]
    },
    {
      "cell_type": "code",
      "source": [
        "# Sample text\n",
        "text =\"\"\"Indian shooter Manu Bhaker carved her name in the history books as she became the first Indian to win two Olympic medals in the single edition.\n",
        "The 22-year-old Bhaker, who opened India's medal tally in Paris 2024 by clinching a bronze medal in women's 10m air pistol event on Sunday, claimed another medal - bronze - while teaming up with Sarabjot Singh in the 10 m air pistol mixed team on Tuesday.\n",
        "\"\"\""
      ],
      "metadata": {
        "id": "F-ntH8imF33L"
      },
      "execution_count": 30,
      "outputs": []
    },
    {
      "cell_type": "markdown",
      "source": [
        "## **Tokenization**"
      ],
      "metadata": {
        "id": "zCk8qiuvHLEj"
      }
    },
    {
      "cell_type": "code",
      "source": [
        "sentences = sent_tokenize(text)\n",
        "words = word_tokenize(text)\n",
        "\n",
        "for sentence in sentences:\n",
        "    print(sentence)\n",
        "\n",
        "print(\"\\n\", words)"
      ],
      "metadata": {
        "colab": {
          "base_uri": "https://localhost:8080/"
        },
        "id": "vLNlP7xjHWVZ",
        "outputId": "ac653b29-c0e3-40ff-f3bd-52a5ff8f8b2e"
      },
      "execution_count": 31,
      "outputs": [
        {
          "output_type": "stream",
          "name": "stdout",
          "text": [
            "Indian shooter Manu Bhaker carved her name in the history books as she became the first Indian to win two Olympic medals in the single edition.\n",
            "The 22-year-old Bhaker, who opened India's medal tally in Paris 2024 by clinching a bronze medal in women's 10m air pistol event on Sunday, claimed another medal - bronze - while teaming up with Sarabjot Singh in the 10 m air pistol mixed team on Tuesday.\n",
            "\n",
            " ['Indian', 'shooter', 'Manu', 'Bhaker', 'carved', 'her', 'name', 'in', 'the', 'history', 'books', 'as', 'she', 'became', 'the', 'first', 'Indian', 'to', 'win', 'two', 'Olympic', 'medals', 'in', 'the', 'single', 'edition', '.', 'The', '22-year-old', 'Bhaker', ',', 'who', 'opened', 'India', \"'s\", 'medal', 'tally', 'in', 'Paris', '2024', 'by', 'clinching', 'a', 'bronze', 'medal', 'in', 'women', \"'s\", '10m', 'air', 'pistol', 'event', 'on', 'Sunday', ',', 'claimed', 'another', 'medal', '-', 'bronze', '-', 'while', 'teaming', 'up', 'with', 'Sarabjot', 'Singh', 'in', 'the', '10', 'm', 'air', 'pistol', 'mixed', 'team', 'on', 'Tuesday', '.']\n"
          ]
        }
      ]
    },
    {
      "cell_type": "markdown",
      "source": [
        "## **Sentiment Analysis**"
      ],
      "metadata": {
        "id": "ZOoIQq-eKHSg"
      }
    },
    {
      "cell_type": "code",
      "source": [
        "# Initializing SentimentIntensityAnalyzer\n",
        "sia = SentimentIntensityAnalyzer()\n",
        "\n",
        "# Perform sentiment analysis on each sentence\n",
        "for sentence in sentences:\n",
        "    sentiment = sia.polarity_scores(sentence)\n",
        "    print(f\"Sentiment: {sentiment}\")"
      ],
      "metadata": {
        "colab": {
          "base_uri": "https://localhost:8080/"
        },
        "id": "t7qDacmhF5_r",
        "outputId": "0cea49b9-a145-48c9-e02f-382c3688b0d4"
      },
      "execution_count": 32,
      "outputs": [
        {
          "output_type": "stream",
          "name": "stdout",
          "text": [
            "Sentiment: {'neg': 0.0, 'neu': 0.868, 'pos': 0.132, 'compound': 0.5859}\n",
            "Sentiment: {'neg': 0.0, 'neu': 0.807, 'pos': 0.193, 'compound': 0.8519}\n"
          ]
        }
      ]
    },
    {
      "cell_type": "markdown",
      "source": [
        "## **Processing Words and getting and removing stop-words**"
      ],
      "metadata": {
        "id": "tmZFqvNyJjNI"
      }
    },
    {
      "cell_type": "code",
      "source": [
        "# Remove punctuation\n",
        "words = [word for word in words if word not in string.punctuation]\n",
        "\n",
        "# Converting to lower case\n",
        "words = [word.lower() for word in words]\n",
        "\n",
        "# Getting stopwords\n",
        "stop_words = set(stopwords.words('english'))\n",
        "print(stop_words)\n",
        "\n",
        "words = [word for word in words if word not in stop_words]"
      ],
      "metadata": {
        "colab": {
          "base_uri": "https://localhost:8080/"
        },
        "id": "PhKcwWdvGDIT",
        "outputId": "79c15668-3aeb-4f42-eb5f-a5dc4ef92d89"
      },
      "execution_count": 33,
      "outputs": [
        {
          "output_type": "stream",
          "name": "stdout",
          "text": [
            "{'whom', 'themselves', 'but', 'than', 'over', 'ours', \"she's\", 'about', 'or', 'how', 'then', 'can', 'y', \"hasn't\", \"it's\", 'with', \"you'll\", \"isn't\", 'after', 'when', 'if', 'off', 'here', 'all', 't', \"didn't\", 'more', \"doesn't\", 'is', 'theirs', 'both', 'until', 'am', 'been', 'those', 'in', 'weren', 'her', 'during', 'why', 'between', 'are', 'do', 'did', 'you', 'himself', \"don't\", \"mightn't\", 'couldn', \"needn't\", 'most', 'each', 'now', 'some', 'any', 'through', 'under', 'other', \"you've\", \"haven't\", 'into', 'him', 'below', 'not', \"weren't\", 'ain', \"hadn't\", 'nor', 'them', 'hadn', 'of', 'didn', 'by', 'again', 'while', 'having', 're', 'our', 'an', 'has', 'i', 'further', 'same', 'will', 'mustn', 'aren', 'yours', \"shan't\", 'hasn', \"you're\", 'doesn', 'myself', 'where', 'wouldn', 'and', 'just', 'hers', 'few', \"should've\", 'its', 'they', 'before', 'up', 'yourselves', 'down', \"wouldn't\", 'very', 'was', 'for', 'no', 'only', 'doing', 'their', 'we', 'needn', 'isn', 'herself', 'should', \"aren't\", 'mightn', 'shouldn', 've', 'his', 'out', 'shan', 'o', \"wasn't\", 'have', 'on', 'a', 'wasn', 'me', \"won't\", 'were', 'she', 'be', 'don', 'to', 'which', 'that', 'ma', 'there', 'who', 'against', \"couldn't\", 'this', 'the', 'too', 'at', 'had', 'd', 'it', 'as', 'll', \"mustn't\", 'ourselves', 'these', 'once', 's', 'itself', 'because', 'so', 'own', 'from', 'm', 'haven', 'my', 'does', \"that'll\", 'such', \"you'd\", 'won', 'above', 'being', \"shouldn't\", 'yourself', 'your', 'what', 'he'}\n"
          ]
        }
      ]
    },
    {
      "cell_type": "markdown",
      "source": [
        "## **Lemmatization**"
      ],
      "metadata": {
        "id": "VgYOFtSTJdj-"
      }
    },
    {
      "cell_type": "code",
      "source": [
        "# Lemmatizing words\n",
        "lemmatizer = WordNetLemmatizer()\n",
        "words = [lemmatizer.lemmatize(word) for word in words]\n",
        "\n",
        "print(\"\\nProcessed Words:\")\n",
        "print(words)"
      ],
      "metadata": {
        "colab": {
          "base_uri": "https://localhost:8080/"
        },
        "id": "uziAWr5_GLuk",
        "outputId": "0e16f15e-4d69-421d-8e92-096974b616f0"
      },
      "execution_count": 34,
      "outputs": [
        {
          "output_type": "stream",
          "name": "stdout",
          "text": [
            "\n",
            "Processed Words:\n",
            "['indian', 'shooter', 'manu', 'bhaker', 'carved', 'name', 'history', 'book', 'became', 'first', 'indian', 'win', 'two', 'olympic', 'medal', 'single', 'edition', '22-year-old', 'bhaker', 'opened', 'india', \"'s\", 'medal', 'tally', 'paris', '2024', 'clinching', 'bronze', 'medal', 'woman', \"'s\", '10m', 'air', 'pistol', 'event', 'sunday', 'claimed', 'another', 'medal', 'bronze', 'teaming', 'sarabjot', 'singh', '10', 'air', 'pistol', 'mixed', 'team', 'tuesday']\n"
          ]
        }
      ]
    }
  ]
}