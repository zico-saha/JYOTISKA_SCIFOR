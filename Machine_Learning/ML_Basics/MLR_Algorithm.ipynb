{
  "nbformat": 4,
  "nbformat_minor": 0,
  "metadata": {
    "colab": {
      "provenance": []
    },
    "kernelspec": {
      "name": "python3",
      "display_name": "Python 3"
    },
    "language_info": {
      "name": "python"
    }
  },
  "cells": [
    {
      "cell_type": "markdown",
      "source": [
        "# **Multi-Linear-Regression Algorithm**"
      ],
      "metadata": {
        "id": "9CpB4ylRXqMt"
      }
    },
    {
      "cell_type": "code",
      "execution_count": 38,
      "metadata": {
        "id": "uXFoe-iqRfaH",
        "colab": {
          "base_uri": "https://localhost:8080/"
        },
        "outputId": "4f9691b7-77cf-4f40-b106-09c2e473cf1d"
      },
      "outputs": [
        {
          "output_type": "stream",
          "name": "stdout",
          "text": [
            "Predicted values: [72.95110681 67.27134498 67.06988101 68.81466019 46.34519425]\n",
            "Actual values: [75.50993453 71.52429851 69.17308245 74.59397195 44.27406255]\n",
            "3675.2169768789354\n",
            "2216.0733696177813\n",
            "1341.2579727775028\n",
            "816.6847369305691\n",
            "502.0457079622381\n",
            "313.24220197511517\n",
            "199.86658091461706\n",
            "131.70514617639958\n",
            "90.64816320852321\n",
            "65.84084423592174\n",
            "50.77691561278755\n",
            "41.5565430267978\n",
            "35.8421563922416\n",
            "32.232585982423274\n",
            "29.88792842454684\n",
            "28.30469664134977\n",
            "27.181047873057643\n",
            "26.336003231725016\n",
            "25.661029019648833\n",
            "25.091015233522803\n",
            "24.586880468768165\n",
            "24.125145524670565\n",
            "23.691683950948946\n",
            "23.277976194521926\n",
            "22.878864369308694\n",
            "22.491206478680496\n",
            "22.113069757499144\n",
            "21.743247155175794\n",
            "21.38096750523409\n",
            "21.025721788158645\n",
            "20.67715897924128\n",
            "20.335023605005844\n",
            "19.999118299473903\n",
            "19.669281345282826\n",
            "19.345373196807877\n",
            "19.02726838726011\n",
            "18.714850663147065\n",
            "18.40801005344727\n",
            "18.106641098698223\n",
            "17.810641775587623\n",
            "17.51991283868234\n",
            "17.234357412441547\n",
            "16.953880733499485\n",
            "16.678389983265898\n",
            "16.40779417490479\n",
            "16.142004073145756\n",
            "15.880932134008747\n",
            "15.624492456694727\n",
            "15.372600742993539\n",
            "15.125174261418934\n"
          ]
        }
      ],
      "source": [
        "import numpy as np\n",
        "import pandas as pd\n",
        "\n",
        "class MultiLinearRegression:\n",
        "    def __init__(self, learning_rate=0.01, epoch=1000):\n",
        "        self.__learning_rate = learning_rate\n",
        "        self.__epoch = epoch\n",
        "\n",
        "    def fit(self, X, y):\n",
        "        self.m, self.n = X.shape\n",
        "\n",
        "        self.__theta = np.random.randn(self.n) * 0.01\n",
        "        self.__bias = 0\n",
        "        self.__costs = []\n",
        "\n",
        "        for i in range(self.__epoch):\n",
        "            predictions = np.dot(X, self.__theta) + self.__bias\n",
        "            self.__costs.append(self.__cost_function(y, predictions))\n",
        "\n",
        "            self.__update_parameter(X, y, predictions)\n",
        "        return self\n",
        "\n",
        "    def __update_parameter(self, X, y, predictions):\n",
        "        errors = predictions - y\n",
        "        d_theta = (2 / self.m) * np.dot(X.T, errors)\n",
        "        d_bias = (2 / self.m) * np.sum(errors)\n",
        "\n",
        "        self.__theta -= self.__learning_rate * d_theta\n",
        "        self.__bias -= self.__learning_rate * d_bias\n",
        "\n",
        "    def __cost_function(self, y, predictions):\n",
        "        errors = predictions - y\n",
        "        return (1 / self.m) * np.dot(errors.T, errors)\n",
        "\n",
        "    def predict(self, X):\n",
        "        return np.dot(X, self.__theta) + self.__bias\n",
        "\n",
        "    def show_cost(self):\n",
        "        for cost in self.__costs:\n",
        "            print(cost)\n",
        "\n",
        "\n",
        "if __name__ == \"__main__\":\n",
        "    np.random.seed(0)\n",
        "    X = 2 * np.random.rand(100, 10)\n",
        "    y = 4 + np.dot(X, np.array([3, 5, 7, 2, 1, 4, 6, 8, 9, 10])) + np.random.randn(100)\n",
        "\n",
        "    lr = MultiLinearRegression(0.01, 50)\n",
        "    lr.fit(X, y)\n",
        "\n",
        "    predictions = lr.predict(X)\n",
        "\n",
        "    print(\"Predicted values:\", predictions[:5])\n",
        "    print(\"Actual values:\", y[:5])\n",
        "\n",
        "    lr.show_cost()\n"
      ]
    }
  ]
}
