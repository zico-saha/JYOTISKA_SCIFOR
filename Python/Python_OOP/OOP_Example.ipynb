{
  "nbformat": 4,
  "nbformat_minor": 0,
  "metadata": {
    "colab": {
      "provenance": []
    },
    "kernelspec": {
      "name": "python3",
      "display_name": "Python 3"
    },
    "language_info": {
      "name": "python"
    }
  },
  "cells": [
    {
      "cell_type": "markdown",
      "source": [
        "You have to make a Bank class which have two case executing\n",
        "1. Withdrawal\n",
        "2. Deposit\n",
        "\n",
        "And the Edge case will be ATM  Pin Verification\n",
        "\n",
        "In details\n",
        "\n",
        "Once your ATM pin will get verified then only you can withdrawal and it also shows withdrawal amount as well existing balance\n",
        "\n",
        "And same goes for second case, after verification of pin your deposition of amount take place it should show deposited amount and existing balance after deposit take place\n",
        "\n",
        "And if you encounter incorrect pin then your program should give the output invalid pin"
      ],
      "metadata": {
        "id": "6-wi63yxREqU"
      }
    },
    {
      "cell_type": "code",
      "execution_count": 9,
      "metadata": {
        "colab": {
          "base_uri": "https://localhost:8080/"
        },
        "id": "VecmQZMmJYAe",
        "outputId": "7e7a9cd2-2867-48e0-b618-74f0690e4dbe"
      },
      "outputs": [
        {
          "output_type": "stream",
          "name": "stdout",
          "text": [
            "Enter atm pin: 12345678\n",
            "Balance : 1000\n",
            "\n",
            "Enter amount: 500\n",
            "Deposit successful! \n",
            "New Balance: 1500\n",
            "\n",
            "Enter atm pin: 452758\n",
            "Invalid ATM pin!\n",
            "\n",
            "Enter atm pin: 12345678\n",
            "Balance : 1500\n",
            "\n",
            "Enter amount: 800\n",
            "Withdrawal successful! \n",
            "New Balance: 700\n",
            "\n",
            "Enter atm pin: 12345678\n",
            "Balance : 700\n",
            "\n",
            "Enter amount: 2000\n",
            "Insufficient money!\n",
            "\n",
            "Enter atm pin: 12345678\n",
            "Balance : 700\n",
            "\n"
          ]
        }
      ],
      "source": [
        "class Bank:\n",
        "    def __init__(self, balance, atm_pin):\n",
        "        self.__balance = balance\n",
        "        self.__atm_pin = atm_pin\n",
        "\n",
        "    def show_balance(self):\n",
        "        pin = input(\"Enter atm pin: \")\n",
        "\n",
        "        if self.__atm_pin == pin:\n",
        "            print(f\"Balance : {self.__balance}\\n\")\n",
        "        else:\n",
        "            print(\"Invalid ATM pin!\\n\")\n",
        "\n",
        "    def withdraw(self):\n",
        "        pin = input(\"Enter atm pin: \")\n",
        "\n",
        "        if self.__atm_pin == pin:\n",
        "\n",
        "            print(f\"Balance : {self.__balance}\\n\")\n",
        "            amount = int(input(\"Enter amount: \"))\n",
        "\n",
        "            if amount <= self.__balance:\n",
        "                self.__balance -= amount\n",
        "                print(f\"Withdrawal successful! \\nNew Balance: {self.__balance}\\n\")\n",
        "            else:\n",
        "                print(\"Insufficient money!\\n\")\n",
        "        else:\n",
        "            print(\"Invalid ATM pin!\\n\")\n",
        "\n",
        "    def deposit(self):\n",
        "        pin = input(\"Enter atm pin: \")\n",
        "\n",
        "        if self.__atm_pin == pin:\n",
        "\n",
        "            print(f\"Balance : {self.__balance}\\n\")\n",
        "            amount = int(input(\"Enter amount: \"))\n",
        "\n",
        "            if amount >= 0:\n",
        "                self.__balance += amount\n",
        "                print(f\"Deposit successful! \\nNew Balance: {self.__balance}\\n\")\n",
        "            else:\n",
        "                print(\"Invalid amount!\\n\")\n",
        "        else:\n",
        "            print(\"Invalid ATM pin!\\n\")\n",
        "\n",
        "\n",
        "my_account = Bank(balance=1000, atm_pin=\"12345678\")\n",
        "\n",
        "my_account.deposit()\n",
        "my_account.deposit()\n",
        "\n",
        "my_account.withdraw()\n",
        "my_account.withdraw()\n",
        "\n",
        "my_account.show_balance()"
      ]
    }
  ]
}