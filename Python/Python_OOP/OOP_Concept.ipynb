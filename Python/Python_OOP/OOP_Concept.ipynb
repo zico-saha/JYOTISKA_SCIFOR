{
  "nbformat": 4,
  "nbformat_minor": 0,
  "metadata": {
    "colab": {
      "provenance": []
    },
    "kernelspec": {
      "name": "python3",
      "display_name": "Python 3"
    },
    "language_info": {
      "name": "python"
    }
  },
  "cells": [
    {
      "cell_type": "markdown",
      "source": [
        "# **Encapsulation:**\n",
        "\n",
        "Encapsulation is the bundling of data and methods that operate on that data within a single unit or class. It restricts direct access to some of the object's components, and only allows access through the methods."
      ],
      "metadata": {
        "id": "a6aq6L7yvTBc"
      }
    },
    {
      "cell_type": "code",
      "execution_count": null,
      "metadata": {
        "colab": {
          "base_uri": "https://localhost:8080/"
        },
        "id": "7_kuSDfPe7iE",
        "outputId": "851072aa-d81d-41cd-bcc6-bf5074c8f500"
      },
      "outputs": [
        {
          "output_type": "stream",
          "name": "stdout",
          "text": [
            "Account Number: 123456\n",
            "Balance: 1000\n",
            "1000\n",
            "1500\n",
            "1300\n"
          ]
        }
      ],
      "source": [
        "# Encapsulation:\n",
        "\n",
        "class BankAccount:\n",
        "    def __init__(self, account_number, balance):\n",
        "        self.__account_number = account_number\n",
        "        self.__balance = balance\n",
        "\n",
        "    def get_info(self):\n",
        "      print(f\"Account Number: {self.__account_number}\")\n",
        "      print(f\"Balance: {self.__balance}\")\n",
        "\n",
        "    def get_balance(self):\n",
        "        return self.__balance\n",
        "\n",
        "    def deposit(self, amount):\n",
        "        if amount > 0:\n",
        "            self.__balance += amount\n",
        "        else:\n",
        "            print(\"Invalid deposit amount\")\n",
        "\n",
        "    def withdraw(self, amount):\n",
        "        if 0 < amount <= self.__balance:\n",
        "            self.__balance -= amount\n",
        "        else:\n",
        "            print(\"Invalid withdraw amount OR Insufficient funds\")\n",
        "\n",
        "\n",
        "\n",
        "account = BankAccount(\"123456\", 1000)\n",
        "\n",
        "account.get_info()\n",
        "\n",
        "print(account.get_balance())\n",
        "\n",
        "account.deposit(500)\n",
        "print(account.get_balance())\n",
        "\n",
        "account.withdraw(200)\n",
        "print(account.get_balance())\n",
        "\n",
        "\n",
        "# This will raise an AttributeError\n",
        "# print(account.__balance)"
      ]
    },
    {
      "cell_type": "markdown",
      "source": [
        "# **Polymorphism**\n",
        "\n",
        "Polymorphism allows methods to do different things based on the object that they are acting upon. In Python, this is achieved through method overriding or method overloading."
      ],
      "metadata": {
        "id": "usVd-KyIyo73"
      }
    },
    {
      "cell_type": "code",
      "source": [
        "# Polymorphism:\n",
        "\n",
        "class Generic_Shape:\n",
        "    def area(self):\n",
        "        pass\n",
        "\n",
        "class Rectangle(Generic_Shape):\n",
        "    def __init__(self, width, height):\n",
        "        self.width = width\n",
        "        self.height = height\n",
        "\n",
        "    def area(self):\n",
        "        return self.width * self.height\n",
        "\n",
        "class Circle(Generic_Shape):\n",
        "    def __init__(self, radius):\n",
        "        self.radius = radius\n",
        "\n",
        "    def area(self):\n",
        "        return 3.14159 * (self.radius ** 2)\n",
        "\n",
        "\n",
        "\n",
        "def calculate_area(shape):\n",
        "    return shape.area()\n",
        "\n",
        "\n",
        "\n",
        "rectangle = Rectangle(5, 10)\n",
        "circle = Circle(7)\n",
        "\n",
        "print(f\"Rectangle area: {calculate_area(rectangle)}\")\n",
        "print(f\"Circle area: {calculate_area(circle)}\")"
      ],
      "metadata": {
        "colab": {
          "base_uri": "https://localhost:8080/"
        },
        "id": "kwUr-MTZlp0F",
        "outputId": "126e3d8a-8fe9-45b5-8498-1c3caed80d04"
      },
      "execution_count": null,
      "outputs": [
        {
          "output_type": "stream",
          "name": "stdout",
          "text": [
            "Rectangle area: 50\n",
            "Circle area: 153.93791\n"
          ]
        }
      ]
    },
    {
      "cell_type": "markdown",
      "source": [
        "# **Inheritance**\n",
        "\n",
        "Inheritance is the process by which objects of one class(child) acquire the properties of objects of another class(parent). In OOP, inheritance provides reusability. We can get the properties of an existing class by inheriting it and add additional features according to our neccesity without writing it from scratch.\n",
        "\n",
        "There are five types of inheritance:\n",
        "* Single Level Inheritance\n",
        "* Multi Level Inheritance\n",
        "* Multiple Inheritance\n",
        "* Hierarchical Inheritance\n",
        "* Hybrid Inheritance"
      ],
      "metadata": {
        "id": "UXAAIkufmIZA"
      }
    },
    {
      "cell_type": "code",
      "source": [
        "# Single Level Inheretance:\n",
        "\n",
        "class Bird:\n",
        "  def properties(self):\n",
        "    print(\"1. Have Feathers\")\n",
        "    print(\"2. Lays Egg\")\n",
        "    print(\"3. Have Beak\")\n",
        "\n",
        "class Flying_Bird(Bird):\n",
        "  def fly(self):\n",
        "    print(\"Bird is flying!\")\n",
        "\n",
        "\n",
        "flying_bird = Flying_Bird()\n",
        "\n",
        "flying_bird.properties()\n",
        "flying_bird.fly()"
      ],
      "metadata": {
        "id": "hTnXEEZkrds2",
        "colab": {
          "base_uri": "https://localhost:8080/"
        },
        "outputId": "b59cb0e8-cb6c-4878-a4c2-588e583c48bc"
      },
      "execution_count": null,
      "outputs": [
        {
          "output_type": "stream",
          "name": "stdout",
          "text": [
            "1. Have Feathers\n",
            "2. Lays Egg\n",
            "3. Have Beak\n",
            "Bird is flying!\n"
          ]
        }
      ]
    },
    {
      "cell_type": "code",
      "source": [
        "# Multi Level Inheretance:\n",
        "\n",
        "class Bird:\n",
        "  def properties(self):\n",
        "    print(\"1. Have Feathers\")\n",
        "    print(\"2. Lays Egg\")\n",
        "    print(\"3. Have Beak\")\n",
        "\n",
        "class Flying_Bird(Bird):\n",
        "  def fly(self):\n",
        "    print(\"Bird is flying!\")\n",
        "\n",
        "class Parrot(Flying_Bird):\n",
        "    def mimic(self):\n",
        "      print(\"Parrot is mimicking\")\n",
        "\n",
        "parrot = Parrot()\n",
        "\n",
        "parrot.properties()\n",
        "parrot.fly()\n",
        "parrot.mimic()"
      ],
      "metadata": {
        "colab": {
          "base_uri": "https://localhost:8080/"
        },
        "id": "yUpL4vpCrVlp",
        "outputId": "419b0025-2131-42c2-9e2d-e3ed78508442"
      },
      "execution_count": null,
      "outputs": [
        {
          "output_type": "stream",
          "name": "stdout",
          "text": [
            "1. Have Feathers\n",
            "2. Lays Egg\n",
            "3. Have Beak\n",
            "Bird is flying!\n",
            "Parrot is mimicking\n"
          ]
        }
      ]
    },
    {
      "cell_type": "code",
      "source": [
        "# Multiple Inheritance:\n",
        "\n",
        "class Father:\n",
        "  def skills(self):\n",
        "    print(\"Sports\")\n",
        "\n",
        "class Mother:\n",
        "  def skills(self):\n",
        "    print(\"Singing\")\n",
        "\n",
        "class Child(Father, Mother):\n",
        "  def skills(self):\n",
        "    super().skills()\n",
        "    print(\"Painting\")\n",
        "\n",
        "child = Child()\n",
        "\n",
        "child.skills()"
      ],
      "metadata": {
        "colab": {
          "base_uri": "https://localhost:8080/"
        },
        "id": "62MjEvje9OSe",
        "outputId": "0d2a58db-12df-4958-efd3-d8f5352fadce"
      },
      "execution_count": null,
      "outputs": [
        {
          "output_type": "stream",
          "name": "stdout",
          "text": [
            "Sports\n",
            "Painting\n"
          ]
        }
      ]
    },
    {
      "cell_type": "code",
      "source": [
        "# Hierarchical Inheritance:\n",
        "\n",
        "class Animal:\n",
        "    def speak(self):\n",
        "        pass\n",
        "\n",
        "class Dog(Animal):\n",
        "    def speak(self):\n",
        "        return \"Woof!\"\n",
        "\n",
        "class Cat(Animal):\n",
        "    def speak(self):\n",
        "        return \"Meow!\"\n",
        "\n",
        "\n",
        "\n",
        "dog = Dog()\n",
        "cat = Cat()\n",
        "\n",
        "print(dog.speak())\n",
        "print(cat.speak())"
      ],
      "metadata": {
        "id": "h9PiINm6sS3F",
        "colab": {
          "base_uri": "https://localhost:8080/"
        },
        "outputId": "235d6ace-be6e-4cf0-b585-69608aab2bf7"
      },
      "execution_count": 1,
      "outputs": [
        {
          "output_type": "stream",
          "name": "stdout",
          "text": [
            "Woof!\n",
            "Meow!\n"
          ]
        }
      ]
    },
    {
      "cell_type": "code",
      "source": [
        "# Hybrid Inheritance:\n",
        "\n",
        "class Animal:\n",
        "    def is_alive(self):\n",
        "        return \"I am alive.\"\n",
        "\n",
        "class Mammal(Animal):\n",
        "    def characteristics(self):\n",
        "        return \"I am warm-blooded.\"\n",
        "\n",
        "class Bird(Animal):\n",
        "    def lay_eggs(self):\n",
        "        return \"I lay eggs.\"\n",
        "\n",
        "class Aquatic(Animal):\n",
        "    def swim(self):\n",
        "        return \"I can swim.\"\n",
        "\n",
        "class Platypus(Mammal, Bird, Aquatic):\n",
        "    def unique_trait(self):\n",
        "        return \"I have a duck-bill and can detect electric fields.\"\n",
        "\n",
        "\n",
        "perry = Platypus()\n",
        "\n",
        "print(perry.is_alive())\n",
        "print(perry.characteristics())\n",
        "print(perry.lay_eggs())\n",
        "print(perry.swim())\n",
        "print(perry.unique_trait())"
      ],
      "metadata": {
        "id": "LKvfzDo_sTbE",
        "colab": {
          "base_uri": "https://localhost:8080/"
        },
        "outputId": "9c9eee89-1cbf-4450-86a0-d6ed2e1759d6"
      },
      "execution_count": 2,
      "outputs": [
        {
          "output_type": "stream",
          "name": "stdout",
          "text": [
            "I am alive.\n",
            "I am warm-blooded.\n",
            "I lay eggs.\n",
            "I can swim.\n",
            "I have a duck-bill and can detect electric fields.\n"
          ]
        }
      ]
    }
  ]
}