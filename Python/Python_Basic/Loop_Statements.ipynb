{
  "nbformat": 4,
  "nbformat_minor": 0,
  "metadata": {
    "colab": {
      "provenance": []
    },
    "kernelspec": {
      "name": "python3",
      "display_name": "Python 3"
    },
    "language_info": {
      "name": "python"
    }
  },
  "cells": [
    {
      "cell_type": "markdown",
      "source": [
        "# **for Loop Example**"
      ],
      "metadata": {
        "id": "atlFT3VGBAJK"
      }
    },
    {
      "cell_type": "code",
      "execution_count": 3,
      "metadata": {
        "colab": {
          "base_uri": "https://localhost:8080/"
        },
        "id": "3KbIQvIF_UQj",
        "outputId": "ebc1d71c-8169-4fbf-8370-abf173cbc392"
      },
      "outputs": [
        {
          "output_type": "stream",
          "name": "stdout",
          "text": [
            "Bob\n",
            "Alice\n",
            "John\n",
            "Henry\n",
            "Thomas\n"
          ]
        }
      ],
      "source": [
        "names = [\"Bob\", \"Alice\", \"John\", \"Henry\", \"Thomas\"]\n",
        "\n",
        "for name in names:\n",
        "    print(f\"Hello, {name}\")\n",
        "\n",
        "# OR\n",
        "\n",
        "# n = len(names)\n",
        "# for i in range(n):\n",
        "#     print(f\"Hello, {names[i]}\")"
      ]
    },
    {
      "cell_type": "markdown",
      "source": [
        "# **while Loop Example**"
      ],
      "metadata": {
        "id": "czTnbNrOBEid"
      }
    },
    {
      "cell_type": "code",
      "source": [
        "import random\n",
        "\n",
        "target_number = random.randint(1, 100)\n",
        "guess = None\n",
        "attempts = 0\n",
        "\n",
        "print(\"Welcome to the number guessing game! Try to guess the number between 1 and 100.\")\n",
        "\n",
        "while guess != target_number:\n",
        "    guess = int(input(\"Enter your guess: \"))\n",
        "    attempts += 1\n",
        "\n",
        "    if guess < target_number:\n",
        "        print(\"Too low! Try again.\")\n",
        "    elif guess > target_number:\n",
        "        print(\"Too high! Try again.\")\n",
        "    else:\n",
        "        print(f\"Congratulations! You've guessed the correct number {target_number} in {attempts} attempts.\")"
      ],
      "metadata": {
        "colab": {
          "base_uri": "https://localhost:8080/"
        },
        "id": "TqyvqfA6_4w1",
        "outputId": "98a31195-2be7-4fa3-de15-9b40ac543ffb"
      },
      "execution_count": 4,
      "outputs": [
        {
          "output_type": "stream",
          "name": "stdout",
          "text": [
            "Welcome to the number guessing game! Try to guess the number between 1 and 100.\n",
            "Enter your guess: 60\n",
            "Too high! Try again.\n",
            "Enter your guess: 30\n",
            "Too high! Try again.\n",
            "Enter your guess: 15\n",
            "Too high! Try again.\n",
            "Enter your guess: 7\n",
            "Congratulations! You've guessed the correct number 7 in 4 attempts.\n"
          ]
        }
      ]
    },
    {
      "cell_type": "markdown",
      "source": [
        "# **do-while (while(True)-break) Example**"
      ],
      "metadata": {
        "id": "4jXt6JSEBHrG"
      }
    },
    {
      "cell_type": "code",
      "source": [
        "def show_menu():\n",
        "    print(\"1. Say Hello\")\n",
        "    print(\"2. Say Goodbye\")\n",
        "    print(\"3. Exit\")\n",
        "\n",
        "while True:\n",
        "    show_menu()\n",
        "    choice = input(\"Enter your choice (1-3): \")\n",
        "\n",
        "    if choice == '1':\n",
        "        print(\"Hello!\")\n",
        "    elif choice == '2':\n",
        "        print(\"Goodbye!\")\n",
        "    elif choice == '3':\n",
        "        print(\"Exiting the program. Goodbye!\")\n",
        "        break\n",
        "    else:\n",
        "        print(\"Invalid choice. Please enter a number between 1 and 3.\")"
      ],
      "metadata": {
        "colab": {
          "base_uri": "https://localhost:8080/"
        },
        "id": "ImwIAbPpAaul",
        "outputId": "4e0672c7-88ed-4b38-e0ae-8b91d5430cee"
      },
      "execution_count": 6,
      "outputs": [
        {
          "output_type": "stream",
          "name": "stdout",
          "text": [
            "1. Say Hello\n",
            "2. Say Goodbye\n",
            "3. Exit\n",
            "Enter your choice (1-3): 1\n",
            "Hello!\n",
            "1. Say Hello\n",
            "2. Say Goodbye\n",
            "3. Exit\n",
            "Enter your choice (1-3): 4\n",
            "Invalid choice. Please enter a number between 1 and 3.\n",
            "1. Say Hello\n",
            "2. Say Goodbye\n",
            "3. Exit\n",
            "Enter your choice (1-3): 3\n",
            "Exiting the program. Goodbye!\n"
          ]
        }
      ]
    }
  ]
}