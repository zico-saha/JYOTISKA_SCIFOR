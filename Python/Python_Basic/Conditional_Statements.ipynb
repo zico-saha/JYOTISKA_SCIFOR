{
  "nbformat": 4,
  "nbformat_minor": 0,
  "metadata": {
    "colab": {
      "provenance": []
    },
    "kernelspec": {
      "name": "python3",
      "display_name": "Python 3"
    },
    "language_info": {
      "name": "python"
    }
  },
  "cells": [
    {
      "cell_type": "markdown",
      "source": [
        "# **if-elif-else Ladder Example**"
      ],
      "metadata": {
        "id": "ngXlpxNO8cx_"
      }
    },
    {
      "cell_type": "code",
      "execution_count": 1,
      "metadata": {
        "colab": {
          "base_uri": "https://localhost:8080/"
        },
        "id": "lE4XeKbS8bUx",
        "outputId": "bb2e2c81-40bf-4a70-92f8-2342243c8919"
      },
      "outputs": [
        {
          "output_type": "stream",
          "name": "stdout",
          "text": [
            "Enter your age: 21\n",
            "You are an adult\n"
          ]
        }
      ],
      "source": [
        "age = int(input(\"Enter your age: \"))\n",
        "\n",
        "if age < 0:\n",
        "    print(\"Invalid age!\")\n",
        "elif age <= 12:\n",
        "    print(\"You are a child\")\n",
        "elif age <= 20:\n",
        "    print(\"You are a teenager\")\n",
        "elif age <= 60:\n",
        "    print(\"You are an adult\")\n",
        "else:\n",
        "    print(\"You are a senior\")"
      ]
    },
    {
      "cell_type": "markdown",
      "source": [
        "# **Nested if-else Example**"
      ],
      "metadata": {
        "id": "ts_quoXd-R93"
      }
    },
    {
      "cell_type": "code",
      "source": [
        "num = input(\"Enter any number: \")\n",
        "num = int(num)\n",
        "\n",
        "if (num % 2) == 0:\n",
        "    print(f\"{num} is even.\")\n",
        "else:\n",
        "    if (num % 5) == 0:\n",
        "        print(f\"{num} is odd and divisible by 5.\")\n",
        "    else:\n",
        "        print(f\"{num} is odd and not divisible by 5.\")"
      ],
      "metadata": {
        "colab": {
          "base_uri": "https://localhost:8080/"
        },
        "id": "JD9EWAS19IoC",
        "outputId": "5b443c7f-85b1-4612-f764-839aa3d42713"
      },
      "execution_count": 2,
      "outputs": [
        {
          "output_type": "stream",
          "name": "stdout",
          "text": [
            "Enter any number: 67\n",
            "67 is odd and not divisible by 5.\n"
          ]
        }
      ]
    },
    {
      "cell_type": "markdown",
      "source": [
        "# **match-case Example**"
      ],
      "metadata": {
        "id": "pCIt9JDh-e1q"
      }
    },
    {
      "cell_type": "code",
      "source": [
        "def get_month_name(month_number):\n",
        "    match month_number:\n",
        "        case 1:\n",
        "            return \"January\"\n",
        "        case 2:\n",
        "            return \"February\"\n",
        "        case 3:\n",
        "            return \"March\"\n",
        "        case 4:\n",
        "            return \"April\"\n",
        "        case 5:\n",
        "            return \"May\"\n",
        "        case 6:\n",
        "            return \"June\"\n",
        "        case 7:\n",
        "            return \"July\"\n",
        "        case 8:\n",
        "            return \"August\"\n",
        "        case 9:\n",
        "            return \"September\"\n",
        "        case 10:\n",
        "            return \"October\"\n",
        "        case 11:\n",
        "            return \"November\"\n",
        "        case 12:\n",
        "            return \"December\"\n",
        "        case _:\n",
        "            return \"Invalid month number\"\n",
        "\n",
        "month_number = int(input(\"Enter month number: \"))\n",
        "month_name = get_month_name(month_number)\n",
        "print(f\"The month for number {month_number} is: {month_name}\")"
      ],
      "metadata": {
        "colab": {
          "base_uri": "https://localhost:8080/"
        },
        "id": "3UzYF7NS9nna",
        "outputId": "0bfc7571-f63b-4e20-ece6-b5b23a5fde7c"
      },
      "execution_count": 3,
      "outputs": [
        {
          "output_type": "stream",
          "name": "stdout",
          "text": [
            "Enter month number: 6\n",
            "The month for number 6 is: June\n"
          ]
        }
      ]
    }
  ]
}