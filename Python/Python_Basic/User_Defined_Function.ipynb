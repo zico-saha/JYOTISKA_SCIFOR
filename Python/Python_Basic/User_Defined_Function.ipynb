{
  "nbformat": 4,
  "nbformat_minor": 0,
  "metadata": {
    "colab": {
      "provenance": []
    },
    "kernelspec": {
      "name": "python3",
      "display_name": "Python 3"
    },
    "language_info": {
      "name": "python"
    }
  },
  "cells": [
    {
      "cell_type": "markdown",
      "source": [
        "# **Python User Defined Function Examples**"
      ],
      "metadata": {
        "id": "FKr-U93PCkpg"
      }
    },
    {
      "cell_type": "markdown",
      "source": [
        "# 1. Factorial Function"
      ],
      "metadata": {
        "id": "kyLdMcLeCqTO"
      }
    },
    {
      "cell_type": "code",
      "execution_count": 1,
      "metadata": {
        "colab": {
          "base_uri": "https://localhost:8080/"
        },
        "id": "rXxBOge1BpST",
        "outputId": "bf72d710-df4c-4f7d-c457-47051a333a52"
      },
      "outputs": [
        {
          "output_type": "stream",
          "name": "stdout",
          "text": [
            "1\n",
            "6\n",
            "120\n"
          ]
        }
      ],
      "source": [
        "def factorial(num):\n",
        "  if (num == 0 or num == 1):\n",
        "    return 1\n",
        "  fact = 1\n",
        "  for x in range(2, (num + 1)):\n",
        "    fact *= x\n",
        "  return fact\n",
        "\n",
        "\n",
        "print(factorial(0))\n",
        "print(factorial(3))\n",
        "print(factorial(5))"
      ]
    },
    {
      "cell_type": "markdown",
      "source": [
        "# 2. Fibonacci Function"
      ],
      "metadata": {
        "id": "7jG1AgRACxEO"
      }
    },
    {
      "cell_type": "code",
      "source": [
        "def fibonacci(num):\n",
        "  if (num <= 1):\n",
        "      return 1\n",
        "  fib = [1, 1]\n",
        "  for x in range(2, (num + 1)):\n",
        "    temp = fib[-1] + fib[-2]\n",
        "    fib.append(temp)\n",
        "  return fib[-1]\n",
        "\n",
        "\n",
        "print(fibonacci(0))\n",
        "print(fibonacci(1))\n",
        "print(fibonacci(5))\n",
        "print(fibonacci(7))\n",
        "# 1, 1, 2, 3, 5, 8, 13, 21, 34, 55, ..."
      ],
      "metadata": {
        "colab": {
          "base_uri": "https://localhost:8080/"
        },
        "id": "TcIrQ99bBwJV",
        "outputId": "7457ae11-d48c-4195-a086-720138e338ef"
      },
      "execution_count": 2,
      "outputs": [
        {
          "output_type": "stream",
          "name": "stdout",
          "text": [
            "1\n",
            "1\n",
            "8\n",
            "21\n"
          ]
        }
      ]
    },
    {
      "cell_type": "markdown",
      "source": [
        "# 3. Prime Number Detection Function"
      ],
      "metadata": {
        "id": "mvrmdSE8C1U_"
      }
    },
    {
      "cell_type": "code",
      "source": [
        "def isPrime(num):\n",
        "    if num <= 1:\n",
        "        return False\n",
        "    r = num ** 0.5\n",
        "    for i in range(2, int(r) + 1):\n",
        "        if num % i == 0:\n",
        "            return False\n",
        "    return True\n",
        "\n",
        "\n",
        "print(isPrime(1))\n",
        "print(isPrime(2))\n",
        "print(isPrime(4))\n",
        "print(isPrime(9))\n",
        "print(isPrime(107))"
      ],
      "metadata": {
        "colab": {
          "base_uri": "https://localhost:8080/"
        },
        "id": "xhJfc-QYBz-L",
        "outputId": "a45f9786-723c-47ec-a5fa-03066e8a370d"
      },
      "execution_count": 3,
      "outputs": [
        {
          "output_type": "stream",
          "name": "stdout",
          "text": [
            "False\n",
            "True\n",
            "False\n",
            "False\n",
            "True\n"
          ]
        }
      ]
    }
  ]
}