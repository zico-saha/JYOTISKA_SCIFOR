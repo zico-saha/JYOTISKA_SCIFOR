{
  "nbformat": 4,
  "nbformat_minor": 0,
  "metadata": {
    "colab": {
      "provenance": []
    },
    "kernelspec": {
      "name": "python3",
      "display_name": "Python 3"
    },
    "language_info": {
      "name": "python"
    }
  },
  "cells": [
    {
      "cell_type": "markdown",
      "source": [
        "# **1. All Levels of Inheritance**\n",
        "\n",
        "Here, in the example code below, all types of levels of inheritance (Single-level, Multi-level, Multiple, Hierarchical, Hybrid) are implemented. This is the class structure-\n",
        "\n",
        "![Screenshot 2024-06-21 204126.png](data:image/png;base64,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)\n",
        "\n",
        "Hierarchical Inheritance is happening when Mammal and Bird class are inheriting the property of RealAnimal. And Multiple Inhertance is happening when the Pegasus class in inheriting from Horse, FlyingBird and ImaginaryAnimal."
      ],
      "metadata": {
        "id": "9NX7POYsSKRl"
      }
    },
    {
      "cell_type": "code",
      "source": [
        "class RealAnimal:\n",
        "    def __init__(self, name):\n",
        "        self.name = name\n",
        "\n",
        "    def make_sound(self):\n",
        "        pass  # No functionality\n",
        "\n",
        "    def move(self):\n",
        "        pass  # No functionality\n",
        "\n",
        "    def display_info(self):\n",
        "        print(f\"I am a real animal named {self.name}\")\n",
        "\n",
        "class ImaginaryAnimal:\n",
        "    def __init__(self, name):\n",
        "        self.name = name\n",
        "\n",
        "    def display_info(self):\n",
        "        print(f\"I am an imaginary animal named {self.name}\")\n",
        "\n",
        "# Derived classes from RealAnimal\n",
        "class Mammal(RealAnimal):\n",
        "    def __init__(self, name):\n",
        "        super().__init__(name)\n",
        "\n",
        "    def give_birth(self):\n",
        "        print(f\"{self.name} is gives birth to live young\")\n",
        "\n",
        "class Bird(RealAnimal):\n",
        "    def __init__(self, name):\n",
        "        super().__init__(name)\n",
        "\n",
        "    def lay_eggs(self):\n",
        "        print(f\"{self.name} lays eggs\")\n",
        "\n",
        "# Derived classes from Mammal\n",
        "class Horse(Mammal):\n",
        "    def __init__(self, name):\n",
        "        super().__init__(name)\n",
        "\n",
        "    def make_sound(self):\n",
        "        print(f\"{self.name} neighs!\")\n",
        "\n",
        "    def move(self):\n",
        "        print(f\"{self.name} gallops across the field\")\n",
        "\n",
        "# Derived class from Bird\n",
        "class FlyingBird(Bird):\n",
        "    def __init__(self, name):\n",
        "        super().__init__(name)\n",
        "\n",
        "    def make_sound(self):\n",
        "        print(f\"{self.name} chirps!\")\n",
        "\n",
        "    def move(self):\n",
        "        print(f\"{self.name} fly through the sky\")\n",
        "\n",
        "# Derived class from Horse, FlyingBird, and ImaginaryAnimal\n",
        "class Pegasus(Horse, FlyingBird, ImaginaryAnimal):\n",
        "    def __init__(self, name):\n",
        "        super().__init__(name)\n",
        "\n",
        "    def make_sound(self):\n",
        "        super().make_sound()\n",
        "\n",
        "    def move(self):\n",
        "        print(f\"{self.name} flies high in the sky with powerful wings\")\n",
        "\n",
        "\n",
        "\n",
        "\n",
        "if __name__ == \"__main__\":\n",
        "    horse = Horse(\"Spirit\")\n",
        "    horse.display_info()\n",
        "    horse.make_sound()\n",
        "    horse.move()\n",
        "    horse.give_birth()\n",
        "\n",
        "    print()\n",
        "\n",
        "    bird = FlyingBird(\"Eagle\")\n",
        "    bird.display_info()\n",
        "    bird.make_sound()\n",
        "    bird.move()\n",
        "    bird.lay_eggs()\n",
        "\n",
        "    print()\n",
        "\n",
        "    pegasus = Pegasus(\"Pegasus\")\n",
        "    pegasus.display_info()\n",
        "    pegasus.make_sound()\n",
        "    pegasus.move()"
      ],
      "metadata": {
        "colab": {
          "base_uri": "https://localhost:8080/"
        },
        "id": "pIHtf9RjNSsj",
        "outputId": "03b44c11-0ab1-46e8-e675-df40c145b2b6"
      },
      "execution_count": 10,
      "outputs": [
        {
          "output_type": "stream",
          "name": "stdout",
          "text": [
            "I am a real animal named Spirit\n",
            "Spirit neighs!\n",
            "Spirit gallops across the field\n",
            "Spirit is gives birth to live young\n",
            "\n",
            "I am a real animal named Eagle\n",
            "Eagle chirps!\n",
            "Eagle fly through the sky\n",
            "Eagle lays eggs\n",
            "\n",
            "I am a real animal named Pegasus\n",
            "Pegasus neighs!\n",
            "Pegasus flies high in the sky with powerful wings\n"
          ]
        }
      ]
    },
    {
      "cell_type": "markdown",
      "source": [
        "# **2. Method Overloading**"
      ],
      "metadata": {
        "id": "DIjxA7CLNTjB"
      }
    },
    {
      "cell_type": "code",
      "source": [
        "PI = 3.14159\n",
        "\n",
        "class Shape:\n",
        "    def area(self, *nums):\n",
        "        if len(nums) == 1:\n",
        "            return self.area_circle(nums[0])\n",
        "        elif len(nums) == 2:\n",
        "            return self.area_rectangle(nums[0], nums[1])\n",
        "        elif len(nums) == 3:\n",
        "            return self.area_triangle(nums[0], nums[1], nums[2])\n",
        "        else:\n",
        "            return \"Polynomial area\"\n",
        "\n",
        "    def area_circle(self, radius):\n",
        "        return PI * (radius ** 2)\n",
        "\n",
        "    def area_rectangle(self, height, width):\n",
        "        return height * width\n",
        "\n",
        "    def area_triangle(self, side1, side2, side3):\n",
        "        perimeter = (side1 + side2 + side3) / 2.0\n",
        "        area = (perimeter * (perimeter - side1) * (perimeter - side2) * (perimeter - side3)) ** 0.5\n",
        "        return area\n",
        "\n",
        "\n",
        "\n",
        "shape1 = Shape()\n",
        "shape2 = Shape()\n",
        "shape3 = Shape()\n",
        "\n",
        "print(f\"shape1 area: {shape1.area(5)}\")\n",
        "print(f\"shape2 area: {shape2.area(4, 6)}\")\n",
        "print(f\"shape3 area: {shape3.area(5, 3, 4)}\")"
      ],
      "metadata": {
        "colab": {
          "base_uri": "https://localhost:8080/"
        },
        "id": "53POZjlQNSdL",
        "outputId": "ca96bff5-d282-4103-aaaf-9af0830c6a96"
      },
      "execution_count": 8,
      "outputs": [
        {
          "output_type": "stream",
          "name": "stdout",
          "text": [
            "shape1 area: 78.53975\n",
            "shape2 area: 24\n",
            "shape3 area: 6.0\n"
          ]
        }
      ]
    },
    {
      "cell_type": "markdown",
      "source": [
        "# **3. Method Overriding**"
      ],
      "metadata": {
        "id": "E35ciXFeJ4dU"
      }
    },
    {
      "cell_type": "code",
      "execution_count": 7,
      "metadata": {
        "colab": {
          "base_uri": "https://localhost:8080/"
        },
        "id": "sbqOfCI6F5KO",
        "outputId": "3c80a1ac-edf5-400b-db61-13e59e9b9d76"
      },
      "outputs": [
        {
          "output_type": "stream",
          "name": "stdout",
          "text": [
            "Rectangle area: 50\n",
            "Circle area: 153.93791\n",
            "Triangle area: 3.082207001484488\n"
          ]
        }
      ],
      "source": [
        "PI = 3.14159\n",
        "\n",
        "class Shape:\n",
        "    def area(self):\n",
        "        pass  # No functionality\n",
        "\n",
        "class Rectangle(Shape):\n",
        "    def __init__(self, width, height):\n",
        "        self.width = width\n",
        "        self.height = height\n",
        "    def area(self):\n",
        "        return self.width * self.height\n",
        "\n",
        "class Circle(Shape):\n",
        "    def __init__(self, radius):\n",
        "        self.radius = radius\n",
        "    def area(self):\n",
        "        return PI * (self.radius ** 2)\n",
        "\n",
        "class Triangle(Shape):\n",
        "    def __init__(self, side1, side2, side3):\n",
        "        self.side1 = side1\n",
        "        self.side2 = side2\n",
        "        self.side3 = side3\n",
        "    def area(self):\n",
        "        perimeter = (self.side1 + self.side2 + self.side3) / 2\n",
        "        temp = perimeter * (perimeter - self.side1) * (perimeter - self.side2) * (perimeter - self.side3)\n",
        "        return perimeter ** 0.5\n",
        "\n",
        "\n",
        "def calculate_area(shape):\n",
        "    return shape.area()\n",
        "\n",
        "\n",
        "rectangle = Rectangle(5, 10)\n",
        "circle = Circle(7)\n",
        "triangle = Triangle(6, 5, 8)\n",
        "\n",
        "\n",
        "print(f\"Rectangle area: {calculate_area(rectangle)}\")\n",
        "print(f\"Circle area: {calculate_area(circle)}\")\n",
        "print(f\"Triangle area: {calculate_area(triangle)}\")"
      ]
    }
  ]
}