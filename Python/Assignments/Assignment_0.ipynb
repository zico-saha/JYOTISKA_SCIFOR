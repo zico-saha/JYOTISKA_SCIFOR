{
  "nbformat": 4,
  "nbformat_minor": 0,
  "metadata": {
    "colab": {
      "provenance": [],
      "toc_visible": true
    },
    "kernelspec": {
      "name": "python3",
      "display_name": "Python 3"
    },
    "language_info": {
      "name": "python"
    }
  },
  "cells": [
    {
      "cell_type": "code",
      "execution_count": 4,
      "metadata": {
        "colab": {
          "base_uri": "https://localhost:8080/"
        },
        "id": "PXUW48mu1ECM",
        "outputId": "1039ead8-df8e-4ede-9055-2acdbf0d43be"
      },
      "outputs": [
        {
          "output_type": "stream",
          "name": "stdout",
          "text": [
            "Enter your age: 21\n",
            "You are an adult.\n"
          ]
        }
      ],
      "source": [
        "# Conditional Statement 1. (if-else)\n",
        "age = input(\"Enter your age: \")\n",
        "age = int(age)\n",
        "\n",
        "if age >= 18:\n",
        "    print(\"You are an adult.\")\n",
        "else:\n",
        "    print(\"You are a minor.\")"
      ]
    },
    {
      "cell_type": "code",
      "source": [
        "# Conditional Statement 2. (if-elif-else chain)\n",
        "score = input(\"Enter your score: \")\n",
        "score = int(score)\n",
        "\n",
        "if (score > 100 or score < 0):\n",
        "    print(\"invalid score!\")\n",
        "elif score >= 95:\n",
        "    print(\"Grade: A*\")\n",
        "elif score >= 90:\n",
        "    print(\"Grade: A\")\n",
        "elif score >= 80:\n",
        "    print(\"Grade: A-\")\n",
        "elif score >= 70:\n",
        "    print(\"Grade: B\")\n",
        "elif score >= 60:\n",
        "    print(\"Grade: B-\")\n",
        "elif score >= 50:\n",
        "    print(\"Grade: C\")\n",
        "else:\n",
        "  print(\"Grade: F\")\n"
      ],
      "metadata": {
        "colab": {
          "base_uri": "https://localhost:8080/"
        },
        "id": "yb6MkCn8Nj_Z",
        "outputId": "b0f939ee-cabe-4630-8d34-1ce0f73d5140"
      },
      "execution_count": 8,
      "outputs": [
        {
          "output_type": "stream",
          "name": "stdout",
          "text": [
            "Enter your score: 85\n",
            "Grade: A-\n"
          ]
        }
      ]
    },
    {
      "cell_type": "code",
      "source": [
        "# Conditional Statement 3. (nested if-else)\n",
        "num = input(\"Enter any number: \")\n",
        "num = int(num)\n",
        "\n",
        "if (num % 2) == 0:\n",
        "    print(f\"{num} is even.\")\n",
        "else:\n",
        "    if (num % 5) == 0:\n",
        "        print(f\"{num} is odd and divisible by 5.\")\n",
        "    else:\n",
        "        print(f\"{num} is odd and not divisible by 5.\")"
      ],
      "metadata": {
        "colab": {
          "base_uri": "https://localhost:8080/"
        },
        "id": "ZsnQJok8OtKt",
        "outputId": "fe897730-4313-48e0-852c-9e378ec6b38c"
      },
      "execution_count": 9,
      "outputs": [
        {
          "output_type": "stream",
          "name": "stdout",
          "text": [
            "Enter any number: 3489\n",
            "3489 is odd and not divisible by 5.\n"
          ]
        }
      ]
    },
    {
      "cell_type": "code",
      "source": [
        "# User-Defined function 1. (factorial function)\n",
        "def factorial(num):\n",
        "  if (num == 0 or num == 1):\n",
        "    return 1\n",
        "  fact = 1\n",
        "  for x in range(2, (num + 1)):\n",
        "    fact *= x\n",
        "  return fact\n",
        "\n",
        "\n",
        "print(factorial(0))\n",
        "print(factorial(3))\n",
        "print(factorial(5))"
      ],
      "metadata": {
        "colab": {
          "base_uri": "https://localhost:8080/"
        },
        "id": "PMHG-PhRfjXd",
        "outputId": "018782f9-2725-483b-e871-5de178a1286a"
      },
      "execution_count": 14,
      "outputs": [
        {
          "output_type": "stream",
          "name": "stdout",
          "text": [
            "1\n",
            "6\n",
            "120\n"
          ]
        }
      ]
    },
    {
      "cell_type": "code",
      "source": [
        "# User-Defined function 2. (fibonacci function)\n",
        "def fibonacci(num):\n",
        "  if (num <= 1):\n",
        "      return 1\n",
        "  fib = [1, 1]\n",
        "  for x in range(2, (num + 1)):\n",
        "    temp = fib[-1] + fib[-2]\n",
        "    fib.append(temp)\n",
        "  return fib[-1]\n",
        "\n",
        "\n",
        "print(fibonacci(0))\n",
        "print(fibonacci(1))\n",
        "print(fibonacci(5))\n",
        "print(fibonacci(7))\n",
        "# 1, 1, 2, 3, 5, 8, 13, 21, 34, 55, ..."
      ],
      "metadata": {
        "colab": {
          "base_uri": "https://localhost:8080/"
        },
        "id": "LJg1U3WJdsPl",
        "outputId": "6d8f1573-2a2c-4f38-c33f-f6e95f1cc563"
      },
      "execution_count": 13,
      "outputs": [
        {
          "output_type": "stream",
          "name": "stdout",
          "text": [
            "1\n",
            "1\n",
            "8\n",
            "21\n"
          ]
        }
      ]
    },
    {
      "cell_type": "code",
      "source": [
        "# User-Defined function 3. (prime checking function)\n",
        "def isPrime(num):\n",
        "    if num <= 1:\n",
        "        return False\n",
        "    r = num ** 0.5\n",
        "    for i in range(2, int(r) + 1):\n",
        "        if num % i == 0:\n",
        "            return False\n",
        "    return True\n",
        "\n",
        "\n",
        "print(isPrime(1))\n",
        "print(isPrime(2))\n",
        "print(isPrime(4))\n",
        "print(isPrime(9))\n",
        "print(isPrime(107))"
      ],
      "metadata": {
        "colab": {
          "base_uri": "https://localhost:8080/"
        },
        "id": "hd5LFUAGgmBn",
        "outputId": "b09947eb-b262-4de3-a301-f465a475294e"
      },
      "execution_count": 15,
      "outputs": [
        {
          "output_type": "stream",
          "name": "stdout",
          "text": [
            "False\n",
            "True\n",
            "False\n",
            "False\n",
            "True\n"
          ]
        }
      ]
    }
  ]
}