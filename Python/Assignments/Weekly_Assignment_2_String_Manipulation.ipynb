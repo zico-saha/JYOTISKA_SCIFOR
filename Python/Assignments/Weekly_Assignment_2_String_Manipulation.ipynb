{
  "nbformat": 4,
  "nbformat_minor": 0,
  "metadata": {
    "colab": {
      "provenance": []
    },
    "kernelspec": {
      "name": "python3",
      "display_name": "Python 3"
    },
    "language_info": {
      "name": "python"
    }
  },
  "cells": [
    {
      "cell_type": "markdown",
      "source": [
        "# **String Manipulation Practice**"
      ],
      "metadata": {
        "id": "lwVgp2J5rjF3"
      }
    },
    {
      "cell_type": "markdown",
      "source": [
        "# **1. String formatting and f-string**\n",
        "Formats specified values in a string. Modern method to do the same is using f-string. The variables get auto converted to string."
      ],
      "metadata": {
        "id": "BfeqpwydrbNJ"
      }
    },
    {
      "cell_type": "code",
      "source": [
        "def greet(first_name, last_name):\n",
        "    # message = \"Hello, {} {}\".format(first_name, last_name)\n",
        "    message = f\"Hello, {first_name} {last_name}\"\n",
        "\n",
        "    print(message)\n",
        "\n",
        "first_name = input(\"Enter your first name: \")\n",
        "last_name = input(\"Enter your last name: \")\n",
        "\n",
        "greet(first_name, last_name)"
      ],
      "metadata": {
        "colab": {
          "base_uri": "https://localhost:8080/"
        },
        "id": "L5nfFV3aUaes",
        "outputId": "f9565d8d-0039-4001-bf45-0ab3c073371e"
      },
      "execution_count": 3,
      "outputs": [
        {
          "output_type": "stream",
          "name": "stdout",
          "text": [
            "Enter your first name: Jyotiska\n",
            "Enter your last name: Saha\n",
            "Hello, Jyotiska Saha\n"
          ]
        }
      ]
    },
    {
      "cell_type": "markdown",
      "source": [
        "# **2. String case changing of alphabets:**\n",
        "* upper := Converts a string into upper case.\n",
        "* lower := Converts a string into lower case.\n",
        "* title := Converts the first character of each word to upper case.\n",
        "* capitalize := Converts the first character to upper case."
      ],
      "metadata": {
        "id": "0LDp3-R_q0Du"
      }
    },
    {
      "cell_type": "code",
      "execution_count": 4,
      "metadata": {
        "colab": {
          "base_uri": "https://localhost:8080/"
        },
        "id": "R9NwkeOWrZes",
        "outputId": "1ee06bf3-15cc-47e4-8521-18c31c83ed84"
      },
      "outputs": [
        {
          "output_type": "stream",
          "name": "stdout",
          "text": [
            "HELLO, WORLD!\n",
            "hello, world!\n",
            "Hello, World!\n",
            "Hello, world!\n"
          ]
        }
      ],
      "source": [
        "text = \"HeLLo, WoRlD!\"\n",
        "\n",
        "upper_text = text.upper()\n",
        "lower_text = text.lower()\n",
        "title_text = text.title()\n",
        "cap_text = text.capitalize()\n",
        "\n",
        "print(upper_text)\n",
        "print(lower_text)\n",
        "print(title_text)\n",
        "print(cap_text)"
      ]
    },
    {
      "cell_type": "markdown",
      "source": [
        "# **3. Stripping white space from the end(right, left and both) of a string:**\n",
        "* lstrip() := Returns a left trim version of the string.\n",
        "* rstrip() := Returns a right trim version of the string.\n",
        "* strip() := Returns a trimmed version of the string."
      ],
      "metadata": {
        "id": "K0Yy1sSVp6Ls"
      }
    },
    {
      "cell_type": "code",
      "source": [
        "text = \"   Alice and Bob   \"\n",
        "\n",
        "print(f\"original = |{text}|\")\n",
        "\n",
        "right_stripped_text = text.rstrip()\n",
        "left_stripped_text = text.lstrip()\n",
        "stripped_text = text.strip()\n",
        "\n",
        "print(f\"rstrip = |{right_stripped_text}|\")\n",
        "print(f\"lstrip = |{left_stripped_text}|\")\n",
        "print(f\" strip = |{stripped_text}|\")"
      ],
      "metadata": {
        "colab": {
          "base_uri": "https://localhost:8080/"
        },
        "id": "sNCikmqYUMkN",
        "outputId": "19aeacd2-6ab5-4650-da3e-2b307926362a"
      },
      "execution_count": 8,
      "outputs": [
        {
          "output_type": "stream",
          "name": "stdout",
          "text": [
            "original = |   Alice and Bob   |\n",
            "rstrip = |   Alice and Bob|\n",
            "lstrip = |Alice and Bob   |\n",
            " strip = |Alice and Bob|\n"
          ]
        }
      ]
    },
    {
      "cell_type": "markdown",
      "source": [
        "# **4. Check string properties:**\n",
        "* isalnum := Returns True if all characters in the string are alphanumeric ([a, ..., z] or [A, ..., Z] or [0, ..., 9]).\n",
        "* isalpha := Returns True if all characters in the string are in the alphabet ([a, ..., z] or [A, ..., Z]).\n",
        "* isdigit := Returns True if all characters in the string are digits ([0, ..., 9] only).\n",
        "* isascii := Returns True if all characters in the string are ascii characters.\n",
        "* isspace := Returns True if all characters in the string are whitespaces.\n",
        "* islower := Returns True if all characters in the string are lower case.\n",
        "* isupper := Returns True if all characters in the string are upper case."
      ],
      "metadata": {
        "id": "Kg0gV2beonFk"
      }
    },
    {
      "cell_type": "code",
      "source": [
        "# .isalnum() => returns true if all the characters are alphabet or numeric(numbers)\n",
        "print(\" isalnum :\")\n",
        "text1 = \"Python3\"\n",
        "text2 = \"Python 3\"\n",
        "\n",
        "print(text1.isalnum())\n",
        "print(text2.isalnum())\n",
        "\n",
        "\n",
        "# .isalpha() => returns true if all the characters are alphabet only\n",
        "print(\"\\n isalpha :\")\n",
        "text3 = \"Python\"\n",
        "\n",
        "print(text1.isalpha())\n",
        "print(text3.isalpha())\n",
        "\n",
        "\n",
        "# .isdigit() => returns true if characters belong to [0, 1, ..., 9] only\n",
        "print(\"\\n isdigit :\")\n",
        "text4 = \"123\"\n",
        "text5 = \"123.45\"\n",
        "\n",
        "print(text4.isdigit())\n",
        "print(text5.isdigit())\n",
        "\n",
        "\n",
        "# .isascii() => returns true if all the characters are ascii characters\n",
        "print(\"\\n isascii :\")\n",
        "print(text2.isascii())\n",
        "\n",
        "\n",
        "# .isspace() => returns true if all the characters are space character\n",
        "print(\"\\n isspace :\")\n",
        "text6 = \"    \\n   \\t\\t  \\n\"\n",
        "\n",
        "print(text6.isspace())\n",
        "\n",
        "\n",
        "# .islower() => returns if all the characters are lower characters\n",
        "# .isupper() => returns if all the characters are upper characters\n",
        "print(\"\\n islower and isupper :\")\n",
        "text7 = \"python\"\n",
        "text8 = \"PYTHON\"\n",
        "\n",
        "print(text7.islower())\n",
        "print(text8.isupper())"
      ],
      "metadata": {
        "colab": {
          "base_uri": "https://localhost:8080/"
        },
        "id": "IHPxoVWHYNjV",
        "outputId": "2a6e6641-8a46-4cdb-c7fd-ba3c79bca836"
      },
      "execution_count": 15,
      "outputs": [
        {
          "output_type": "stream",
          "name": "stdout",
          "text": [
            " isalnum :\n",
            "True\n",
            "False\n",
            "\n",
            " isalpha :\n",
            "False\n",
            "True\n",
            "\n",
            " isdigit :\n",
            "True\n",
            "False\n",
            "\n",
            " isascii :\n",
            "True\n",
            "\n",
            " isspace :\n",
            "True\n",
            "\n",
            " islower and isupper :\n",
            "True\n",
            "True\n"
          ]
        }
      ]
    },
    {
      "cell_type": "markdown",
      "source": [
        "# **5. Replacing substring, splitting, joining and finding in a string**\n",
        "* replace := Returns a string where a specified substring is replaced with another specified substring.\n",
        "* split := Splits the string at the specified separator, and returns a list.\n",
        "* join := Converts the elements of a list into a string with the separator being the string has called the method.\n",
        "* find := Searches the string for a specified value and returns the position of where it was found first."
      ],
      "metadata": {
        "id": "Z_H9U1masNOV"
      }
    },
    {
      "cell_type": "code",
      "source": [
        "# Replacing substring\n",
        "text = \"I love C++ programming!\"\n",
        "new_text1 = text.replace(\"C++\", \"Python\")\n",
        "new_text2 = text.replace(\"Java\", \"Python\")\n",
        "\n",
        "print(new_text1)\n",
        "print(new_text2)    # As \"Java\" was not found. It returned the original.\n",
        "print(\"\\n\")\n",
        "\n",
        "\n",
        "# Splitting string\n",
        "fruits = \"Apple,Orange,Banana,Mango\"\n",
        "sentence = \"Alice and Bob are good in programming.\"\n",
        "\n",
        "fruit_list = fruits.split(\",\")\n",
        "word_list = sentence.split()    # default argument is space character.\n",
        "\n",
        "print(fruit_list)\n",
        "print(word_list)\n",
        "print(\"\\n\")\n",
        "\n",
        "\n",
        "# Joining strings\n",
        "fruit_sentence = \" and \".join(fruit_list)\n",
        "print(fruit_sentence)\n",
        "print(\"\\n\")\n",
        "\n",
        "\n",
        "# Finding a value or substring\n",
        "text = \"Python is a easy to learn programming language.\"\n",
        "# index 0123456789....\n",
        "print(text.find(\"is\"))\n",
        "print(text.find(\"Python\"))\n",
        "print(text.find(\"python\")) # Not found. So, returned -1"
      ],
      "metadata": {
        "colab": {
          "base_uri": "https://localhost:8080/"
        },
        "id": "47aTI-ELoC8v",
        "outputId": "cc310e79-ae95-4ab9-de2e-eb9f8886807d"
      },
      "execution_count": 27,
      "outputs": [
        {
          "output_type": "stream",
          "name": "stdout",
          "text": [
            "I love Python programming!\n",
            "I love C++ programming!\n",
            "\n",
            "\n",
            "['Apple', 'Orange', 'Banana', 'Mango']\n",
            "['Alice', 'and', 'Bob', 'are', 'good', 'in', 'programming.']\n",
            "\n",
            "\n",
            "Apple and Orange and Banana and Mango\n",
            "\n",
            "\n",
            "7\n",
            "0\n",
            "-1\n"
          ]
        }
      ]
    }
  ]
}