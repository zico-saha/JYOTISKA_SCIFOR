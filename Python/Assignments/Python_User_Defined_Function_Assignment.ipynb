{
  "nbformat": 4,
  "nbformat_minor": 0,
  "metadata": {
    "colab": {
      "provenance": []
    },
    "kernelspec": {
      "name": "python3",
      "display_name": "Python 3"
    },
    "language_info": {
      "name": "python"
    }
  },
  "cells": [
    {
      "cell_type": "markdown",
      "source": [
        "# **1. Create a function in Python**\n",
        "\n",
        "Write a program to create a function that takes two arguments, name and age, and print their value."
      ],
      "metadata": {
        "id": "PeVsAnr30Ltw"
      }
    },
    {
      "cell_type": "code",
      "source": [
        "def display_info(name, age):\n",
        "  print(f\"Name: {name}\")\n",
        "  print(f\"Age: {age}\")\n",
        "\n",
        "\n",
        "display_info(\"Zico\", 21)"
      ],
      "metadata": {
        "colab": {
          "base_uri": "https://localhost:8080/"
        },
        "id": "cIdUPvKr0Lds",
        "outputId": "c8b33034-2407-490e-c365-fa09e034edb7"
      },
      "execution_count": 14,
      "outputs": [
        {
          "output_type": "stream",
          "name": "stdout",
          "text": [
            "Name: Zico\n",
            "Age: 21\n"
          ]
        }
      ]
    },
    {
      "cell_type": "markdown",
      "source": [
        "# **2. Create a function with variable length of arguments**\n",
        "\n",
        "Write a program to create function func1() to accept a variable length of arguments and print their value.\n",
        "\n",
        "Note: Create a function in such a way that we can pass any number of arguments to this function, and the function should process them and display each argument’s value."
      ],
      "metadata": {
        "id": "O7ahKmZ7vopp"
      }
    },
    {
      "cell_type": "code",
      "execution_count": 25,
      "metadata": {
        "colab": {
          "base_uri": "https://localhost:8080/"
        },
        "id": "aOOlx7S8vMmZ",
        "outputId": "bacc2176-f57b-405f-8742-bde310a6b66e"
      },
      "outputs": [
        {
          "output_type": "stream",
          "name": "stdout",
          "text": [
            "Alice\n",
            "Bob\n",
            "John\n",
            "Harry\n"
          ]
        }
      ],
      "source": [
        "def print_names(*names):\n",
        "    for name in names:\n",
        "      print(name)\n",
        "\n",
        "print_names(\"Alice\", \"Bob\", \"John\", \"Harry\")"
      ]
    },
    {
      "cell_type": "markdown",
      "source": [
        "# **3. Return multiple values from a function**\n",
        "\n",
        "Write a program to create function calculation() such that it can accept two variables and calculate addition and subtraction. Also, it must return both addition and subtraction in a single return call."
      ],
      "metadata": {
        "id": "4LYHSx0gv9M_"
      }
    },
    {
      "cell_type": "code",
      "source": [
        "def calculation(num1, num2):\n",
        "  return ((num1 + num2), (num1 - num2))\n",
        "\n",
        "\n",
        "\n",
        "result = calculation(40, 10)\n",
        "print(f\"Addition: {result[0]}\")\n",
        "print(f\"Subtraction: {result[1]}\")"
      ],
      "metadata": {
        "colab": {
          "base_uri": "https://localhost:8080/"
        },
        "id": "1UcZhav1v9vT",
        "outputId": "0be97a1d-6d45-411e-9257-a7addff8e32b"
      },
      "execution_count": 21,
      "outputs": [
        {
          "output_type": "stream",
          "name": "stdout",
          "text": [
            "Addition: 50\n",
            "Subtraction: 30\n"
          ]
        }
      ]
    },
    {
      "cell_type": "markdown",
      "source": [
        "# **4. Create a function with a default argument**\n",
        "\n",
        "Write a program to create a function show_employee() using the following conditions.\n",
        "\n",
        "* It should accept the employee’s name and salary and display both.\n",
        "* If the salary is missing in the function call then assign default value 9000 to salary"
      ],
      "metadata": {
        "id": "7b56lClRxvM_"
      }
    },
    {
      "cell_type": "code",
      "source": [
        "def show_employee(name, salary=9000):\n",
        "  print(f\"Name: {name}\")\n",
        "  print(f\"Salary: {salary}\")\n",
        "\n",
        "\n",
        "show_employee(\"Ben\", 12000)\n",
        "show_employee(\"Jessa\")"
      ],
      "metadata": {
        "colab": {
          "base_uri": "https://localhost:8080/"
        },
        "id": "2MdLgR61x3Rr",
        "outputId": "0a0ef9b8-a381-4e5d-aa55-2efdf0769e5d"
      },
      "execution_count": 16,
      "outputs": [
        {
          "output_type": "stream",
          "name": "stdout",
          "text": [
            "Name: Ben\n",
            "Salary: 12000\n",
            "Name: Jessa\n",
            "Salary: 9000\n"
          ]
        }
      ]
    },
    {
      "cell_type": "markdown",
      "source": [
        "# **5. Create an inner function to calculate the addition in the following way**\n",
        "\n",
        "* Create an outer function that will accept two parameters, a and b\n",
        "* Create an inner function inside an outer function that will calculate the addition of a and b\n",
        "* At last, an outer function will add 5 into addition and return it"
      ],
      "metadata": {
        "id": "CkLtltRlyGTJ"
      }
    },
    {
      "cell_type": "code",
      "source": [
        "def outer_func(a, b):\n",
        "    def inner_func(a, b):\n",
        "        return a + b\n",
        "\n",
        "    addition_result = inner_func(a, b)\n",
        "    final_result = addition_result + 5\n",
        "    return final_result\n",
        "\n",
        "\n",
        "print(outer_func(31, 12))\n",
        "print(outer_func(70, 38))"
      ],
      "metadata": {
        "colab": {
          "base_uri": "https://localhost:8080/"
        },
        "id": "pN7n1QJUyGvy",
        "outputId": "16a6928c-2715-4fef-e9ed-da9fa173bf7e"
      },
      "execution_count": 8,
      "outputs": [
        {
          "output_type": "stream",
          "name": "stdout",
          "text": [
            "48\n",
            "113\n"
          ]
        }
      ]
    },
    {
      "cell_type": "markdown",
      "source": [
        "# **6. Create a recursive function**\n",
        "\n",
        "Write a program to create a recursive function to calculate the sum of numbers from 0 to 10."
      ],
      "metadata": {
        "id": "fYAvln_vy36V"
      }
    },
    {
      "cell_type": "code",
      "source": [
        "def num_sum(num):\n",
        "  if num == 0:\n",
        "    return 0\n",
        "\n",
        "  return num + num_sum(num - 1)\n",
        "\n",
        "\n",
        "result = num_sum(10)\n",
        "print(result)"
      ],
      "metadata": {
        "colab": {
          "base_uri": "https://localhost:8080/"
        },
        "id": "Oqdfc5Fvy4O1",
        "outputId": "562683ae-7eef-4248-aeaa-194b73868e2b"
      },
      "execution_count": 19,
      "outputs": [
        {
          "output_type": "stream",
          "name": "stdout",
          "text": [
            "55\n"
          ]
        }
      ]
    },
    {
      "cell_type": "markdown",
      "source": [
        "# **7. Assign a different name to function and call it through the new name**\n",
        "\n",
        "Below is the function display_student(name, age). Assign a new name show_tudent(name, age) to it and call it using the new name."
      ],
      "metadata": {
        "id": "Gib6OD8rzlWJ"
      }
    },
    {
      "cell_type": "code",
      "source": [
        "def display_student(name, age):\n",
        "  print(f\"Name: {name}\")\n",
        "  print(f\"Age: {age}\")\n",
        "\n",
        "\n",
        "def show_student(name, age):\n",
        "  display_student(name, age)\n",
        "\n",
        "\n",
        "display_student(\"Emma\", 26)\n",
        "show_student(\"Emma\", 26)"
      ],
      "metadata": {
        "colab": {
          "base_uri": "https://localhost:8080/"
        },
        "id": "4HaUp2oezlrs",
        "outputId": "ce721feb-5bf9-4933-dabd-787dc8af5d7e"
      },
      "execution_count": 13,
      "outputs": [
        {
          "output_type": "stream",
          "name": "stdout",
          "text": [
            "Name: Emma\n",
            "Age: 26\n",
            "Name: Emma\n",
            "Age: 26\n"
          ]
        }
      ]
    },
    {
      "cell_type": "markdown",
      "source": [
        "# **8. Exercise 8: Generate a Python list of all the even numbers between 4 to 30**"
      ],
      "metadata": {
        "id": "T3UHOKWhz-55"
      }
    },
    {
      "cell_type": "code",
      "source": [
        "def even_numbers(start, end):\n",
        "  return [num for num in range(start, end + 1) if num % 2 == 0]\n",
        "\n",
        "\n",
        "evens = even_numbers(4, 30)\n",
        "print(evens)"
      ],
      "metadata": {
        "colab": {
          "base_uri": "https://localhost:8080/"
        },
        "id": "T1vny4PW0B0-",
        "outputId": "3a7fe336-7b9d-40d4-d518-89d2a4ddaaf7"
      },
      "execution_count": 12,
      "outputs": [
        {
          "output_type": "stream",
          "name": "stdout",
          "text": [
            "[4, 6, 8, 10, 12, 14, 16, 18, 20, 22, 24, 26, 28, 30]\n"
          ]
        }
      ]
    },
    {
      "cell_type": "markdown",
      "source": [
        "# **9. Find the largest item from a given list**"
      ],
      "metadata": {
        "id": "RlCc161G0Caa"
      }
    },
    {
      "cell_type": "code",
      "source": [
        "def max_item(nums):\n",
        "  max_value = nums[0]\n",
        "\n",
        "  for num in nums:\n",
        "    if num > max_value:\n",
        "      max_value = num\n",
        "\n",
        "  return max_value\n",
        "\n",
        "\n",
        "\n",
        "my_list = [4, 6, 8, 24, 12, 2]\n",
        "max_element = max_item(my_list)\n",
        "\n",
        "print(f\"Max Item: {max_element}\")"
      ],
      "metadata": {
        "colab": {
          "base_uri": "https://localhost:8080/"
        },
        "id": "2OqT3WGH0JS0",
        "outputId": "82cf3ced-a881-4e89-b33c-403ca08d7032"
      },
      "execution_count": 20,
      "outputs": [
        {
          "output_type": "stream",
          "name": "stdout",
          "text": [
            "Max Item: 24\n"
          ]
        }
      ]
    }
  ]
}