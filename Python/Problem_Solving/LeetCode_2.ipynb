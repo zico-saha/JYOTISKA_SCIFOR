{
  "nbformat": 4,
  "nbformat_minor": 0,
  "metadata": {
    "colab": {
      "provenance": []
    },
    "kernelspec": {
      "name": "python3",
      "display_name": "Python 3"
    },
    "language_info": {
      "name": "python"
    }
  },
  "cells": [
    {
      "cell_type": "markdown",
      "source": [
        "# **58. Length of Last Word**\n",
        "\n",
        "Given a string s consisting of words and spaces, return the length of the last word in the string.\n",
        "\n",
        "A word is a maximal substring consisting of non-space characters only.\n",
        "\n",
        "---\n",
        "\n",
        "Example 1:\n",
        "\n",
        "Input: s = \"Hello World\"\n",
        "\n",
        "Output: 5\n",
        "\n",
        "Explanation: The last word is \"World\" with length 5.\n",
        "\n",
        "Example 2:\n",
        "\n",
        "Input: s = \"   fly me   to   the moon  \"\n",
        "\n",
        "Output: 4\n",
        "\n",
        "Explanation: The last word is \"moon\" with length 4.\n",
        "\n",
        "Example 3:\n",
        "\n",
        "Input: s = \"luffy is still joyboy\"\n",
        "\n",
        "Output: 6\n",
        "\n",
        "Explanation: The last word is \"joyboy\" with length 6.\n",
        "\n",
        "---\n",
        "\n",
        "Constraints:\n",
        "\n",
        "* 1 <= s.length <= 104\n",
        "* s consists of only English letters and spaces ' '.\n",
        "* There will be at least one word in s."
      ],
      "metadata": {
        "id": "IrUf9HoqR52c"
      }
    },
    {
      "cell_type": "code",
      "execution_count": null,
      "metadata": {
        "id": "ZYF1RP2KRmWf"
      },
      "outputs": [],
      "source": [
        "# Time Complexity: O(n) ; n => length of string\n",
        "# Space Complexity: O(1)\n",
        "class Solution:\n",
        "    def lengthOfLastWord(self, s: str) -> int:\n",
        "        n = len(s) - 1\n",
        "        ans = 0\n",
        "        while n >= 0:\n",
        "            if ans != 0 and s[n] == ' ':\n",
        "                break\n",
        "            elif s[n] != ' ':\n",
        "                ans += 1\n",
        "            n -= 1\n",
        "\n",
        "        return ans"
      ]
    },
    {
      "cell_type": "markdown",
      "source": [
        "# **709. To Lower Case**\n",
        "\n",
        "Given a string s, return the string after replacing every uppercase letter with the same lowercase letter.\n",
        "\n",
        "---\n",
        "\n",
        "Example 1:\n",
        "\n",
        "Input: s = \"Hello\"\n",
        "\n",
        "Output: \"hello\"\n",
        "\n",
        "Example 2:\n",
        "\n",
        "Input: s = \"here\"\n",
        "\n",
        "Output: \"here\"\n",
        "\n",
        "Example 3:\n",
        "\n",
        "Input: s = \"LOVELY\"\n",
        "\n",
        "Output: \"lovely\"\n",
        "\n",
        "---\n",
        "\n",
        "Constraints:\n",
        "\n",
        "* 1 <= s.length <= 100\n",
        "* s consists of printable ASCII characters."
      ],
      "metadata": {
        "id": "PWCluwn0SiO7"
      }
    },
    {
      "cell_type": "code",
      "source": [
        "# Method 1:\n",
        "# Time Complexity: O(n) ; n => length of string\n",
        "# Space Complexity: O(n)\n",
        "class Solution:\n",
        "    def toLowerCase(self, s: str) -> str:\n",
        "        return s.lower()"
      ],
      "metadata": {
        "id": "dEkSvgABSf9o"
      },
      "execution_count": null,
      "outputs": []
    },
    {
      "cell_type": "code",
      "source": [
        "# Method 2:\n",
        "# Time Complexity: O(n) ; n => length of string\n",
        "# Space Complexity: O(n)\n",
        "class Solution:\n",
        "    def toLowerCase(self, s: str) -> str:\n",
        "        n = len(s)\n",
        "        result = list(s)\n",
        "        for i in range(n):\n",
        "            if 65 <= ord(result[i]) <= 90:\n",
        "                result[i] = chr(ord(result[i]) + 32)\n",
        "\n",
        "        return ''.join(result)"
      ],
      "metadata": {
        "id": "qvv1hRXPSi1u"
      },
      "execution_count": null,
      "outputs": []
    }
  ]
}